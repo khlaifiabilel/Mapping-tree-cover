{
 "cells": [
  {
   "cell_type": "markdown",
   "id": "b701795c",
   "metadata": {},
   "source": [
    "# Exploratory Data Analysis\n",
    "This notebook explores the output of the TML analysis pipeline performed on a variety of countries in our processing extent. The visualizations are intended to explore statistics across different ESA and IPCCC land cover categories and compare tree cover estimates between TML and Hansen et al (2013).\n",
    "\n",
    "**Tree Cover per Land Cover Class**  \n",
    "\n",
    "TML tree cover assessments per ESA land cover classifications\n",
    "* Sampled Area: Country\n",
    "* Sampled Area: Admin and lcc\n",
    "* Urban Areas in El Salvador\n",
    "* Tree Cover (ha) per lcc\n",
    "\n",
    "TML tree cover assessments per IPCC land cover classifications\n",
    "* TML above thresholds\n",
    "* Urban Areas in El Salvador and Guatemala\n",
    "\n",
    "**GFW pipeline comparisons**\n",
    " \n",
    " \n"
   ]
  },
  {
   "cell_type": "code",
   "execution_count": null,
   "id": "3bcdf727",
   "metadata": {},
   "outputs": [],
   "source": [
    "import os\n",
    "import rasterio as rs\n",
    "import numpy as np \n",
    "import seaborn as sns\n",
    "import matplotlib.pyplot as plt\n",
    "import geopandas as gpd \n",
    "import pandas as pd\n",
    "import fiona\n",
    "import requests\n",
    "import confuse\n",
    "import pycountry\n",
    "from natsort import natsorted\n",
    "\n",
    "from rasterio.plot import show\n",
    "from numpy.ma import masked_array\n",
    "from matplotlib.colors import ListedColormap\n",
    "import matplotlib.colors as colors\n",
    "from matplotlib.patches import Patch\n",
    "from geojson import dump\n",
    "\n",
    "import sys\n",
    "sys.path.append('scripts/')\n",
    "import statistical_analyses as st\n",
    "\n",
    "%load_ext autoreload\n",
    "%autoreload 2"
   ]
  },
  {
   "cell_type": "markdown",
   "id": "86a13175",
   "metadata": {},
   "source": [
    "## Check Statistics Spreadsheets"
   ]
  },
  {
   "cell_type": "code",
   "execution_count": null,
   "id": "7677bfe7",
   "metadata": {},
   "outputs": [],
   "source": [
    "st.check_stats('Bangladesh', 'full')"
   ]
  },
  {
   "cell_type": "code",
   "execution_count": null,
   "id": "de0d7c0a",
   "metadata": {},
   "outputs": [],
   "source": [
    "def visualize_admin(tml_filepath, admin):\n",
    "    \n",
    "    tml = rs.open(tml_filepath).read(1)\n",
    "\n",
    "    # mask out no data values for plotting\n",
    "    tml_ma = np.ma.masked_where(tml == 255, tml, copy=True)\n",
    "\n",
    "    plt.figure(figsize=(20,20))\n",
    "    fontsize = 18\n",
    "\n",
    "    # plot admin with urban land cover overlay\n",
    "    plt.subplot(1,3,1)\n",
    "    plt.imshow(tml_ma, cmap='Greens', vmin=0, vmax=100)\n",
    "    plt.title(f'Tree Cover in {admin}', fontsize=fontsize)\n",
    "    plt.axis('off')\n",
    "    \n",
    "    return None"
   ]
  },
  {
   "cell_type": "code",
   "execution_count": null,
   "id": "d7e97b02",
   "metadata": {},
   "outputs": [],
   "source": [
    "ipcc_colors = {'Other':'royalblue',\n",
    "               'Agriculture':'sandybrown',\n",
    "               'Forest':'green',\n",
    "               'Grassland':'limegreen',\n",
    "               'Wetland':'mediumturquoise',\n",
    "               'Settlement':'palevioletred'}"
   ]
  },
  {
   "cell_type": "code",
   "execution_count": null,
   "id": "0d5e7b90",
   "metadata": {},
   "outputs": [],
   "source": [
    "colors = ['royalblue','maroon', 'gray', 'sandybrown', \n",
    "          'gold', 'limegreen', 'green', 'palevioletred',\n",
    "          'mediumturquoise', 'red', 'cyan', 'sienna', 'navy', \n",
    "          'mediumpurple', 'darkkhaki', 'magenta']"
   ]
  },
  {
   "cell_type": "code",
   "execution_count": null,
   "id": "1b6f75d2",
   "metadata": {},
   "outputs": [],
   "source": [
    "# create dataframes for each category of lc class\n",
    "\n",
    "tree_cover_class = landcover[landcover.esa_id.isin([50, 60, 70, 80, 90, 160, 170])]\n",
    "mosaic_class = landcover[landcover.esa_id.isin([30, 40, 100, 110])]\n",
    "crop_urban_class = landcover[landcover.esa_id.isin([10, 11, 20, 190])]\n",
    "herb_shrub_class = landcover[landcover.esa_id.isin([120, 130, 140, 150, 180, 200])]\n",
    "other_class = landcover[landcover.esa_id.isin([0, 210, 220])]"
   ]
  },
  {
   "cell_type": "markdown",
   "id": "62cf018a",
   "metadata": {},
   "source": [
    "## ESA and TML\n",
    "TML tree cover assessments per ESA land cover classifications. Some sections compare TML estimates to Hansen et al per land cover class."
   ]
  },
  {
   "cell_type": "markdown",
   "id": "ecf3f57f",
   "metadata": {},
   "source": [
    "### Sampling Area: Country\n",
    "This barchart illustrates the sampling coverage for each land cover class in a country. Each bar shows the sampled and total hectares of each land cover class in hectares (any hectare containing >0% tree cover is included). The results are sorted by hectares of land cover sampled in ascending order."
   ]
  },
  {
   "cell_type": "code",
   "execution_count": null,
   "id": "a3b784f6",
   "metadata": {},
   "outputs": [],
   "source": [
    "def lc_sampled(country):\n",
    "    \n",
    "    df = pd.read_csv(f'{country}/stats/{country}_statistics.csv')\n",
    "    df = df[['country', 'admin', 'esa_class', 'esa_sampled_ha', 'esa_total_ha']]\n",
    "\n",
    "    df = df.drop_duplicates(keep='first', ignore_index=True)\n",
    "    df.drop(df[df.esa_class == 'No Data (flag)'].index, inplace = True)\n",
    "    df['esa_not_sampled'] = df['esa_total_ha'] - df['esa_sampled_ha']\n",
    "    df = df.groupby(by='esa_class').sum().reset_index()\n",
    "    df = df.sort_values(by='esa_sampled_ha')\n",
    "    df['esa_perc_sampled'] = round((df['esa_sampled_ha'] / df['esa_total_ha']) * 100)\n",
    "    \n",
    "    # create the visualization\n",
    "    plt.figure(figsize=(10,5))\n",
    "    classes = list(df.esa_class.values)\n",
    "    bars1 = df.esa_sampled_ha\n",
    "    bars2 = df.esa_not_sampled\n",
    "\n",
    "    plt.barh(classes, bars1, color=\"#f3e151\", label='sampled')  \n",
    "    plt.barh(classes, bars2, left=bars1, color=\"#6c3376\", label='not sampled')\n",
    "\n",
    "    plt.title(f'Land Cover Sampled in {country}')\n",
    "    plt.xlabel('Tree Cover (ha)')\n",
    "    plt.ticklabel_format(useOffset=False, style='plain', axis='x')\n",
    "    plt.grid(axis='x', linestyle='-', linewidth=.2)\n",
    "    plt.legend();\n",
    "    \n",
    "    return"
   ]
  },
  {
   "cell_type": "code",
   "execution_count": null,
   "id": "c96d380b",
   "metadata": {},
   "outputs": [],
   "source": [
    "lc_sampled('Belize')"
   ]
  },
  {
   "cell_type": "code",
   "execution_count": null,
   "id": "7da17820",
   "metadata": {},
   "outputs": [],
   "source": [
    "lc_sampled('El Salvador')"
   ]
  },
  {
   "cell_type": "code",
   "execution_count": null,
   "id": "6eb2f619",
   "metadata": {},
   "outputs": [],
   "source": [
    "lc_sampled('Nicaragua')"
   ]
  },
  {
   "cell_type": "code",
   "execution_count": null,
   "id": "6a4caa90",
   "metadata": {},
   "outputs": [],
   "source": [
    "lc_sampled('Honduras')"
   ]
  },
  {
   "cell_type": "code",
   "execution_count": null,
   "id": "16833e45",
   "metadata": {},
   "outputs": [],
   "source": [
    "lc_sampled('Panama')"
   ]
  },
  {
   "cell_type": "code",
   "execution_count": null,
   "id": "2d2af3cc",
   "metadata": {},
   "outputs": [],
   "source": [
    "lc_sampled('Guatemala')"
   ]
  },
  {
   "cell_type": "markdown",
   "id": "2be9f643",
   "metadata": {},
   "source": [
    "### Sampling Area: Admin and Land Cover Class\n",
    "The following functions are intended to return the total area sampled at various scales (at a land cover class and administrative district scale)."
   ]
  },
  {
   "cell_type": "code",
   "execution_count": null,
   "id": "00e283c9",
   "metadata": {},
   "outputs": [],
   "source": [
    "# get the total area sampled in Cayo, Belize for land cover class 11\n",
    "df = pd.read_csv(f'/Volumes/Jessicas_Life/regional_stats/central_am.csv')\n",
    "cayo11 = df[(df.admin == 'Cayo') & (df.esa_id == 11)]\n",
    "cayo11_sampled = round((cayo11.esa_sampled_ha.iloc[0] / cayo11.esa_total_ha.iloc[0]) * 100, 2)\n",
    "print(f'The total area sampled in Cayo, Belize for ESA land cover #11 is: {cayo11_sampled}%')"
   ]
  },
  {
   "cell_type": "code",
   "execution_count": null,
   "id": "cf01ddfd",
   "metadata": {},
   "outputs": [],
   "source": [
    "## Admins with most area sampled\n",
    "df_samp = df[['country', 'admin', 'esa_id', 'esa_sampled_ha', 'esa_total_ha']] \n",
    "df_samp = df_samp.drop_duplicates(keep='first', ignore_index=True)\n",
    "\n",
    "# group by country and admin, sum sampled ha and total ha\n",
    "df_admin_samp = df_samp.groupby(by=['country', 'admin']).sum().reset_index()\n",
    "df_admin_samp = df_admin_samp[['country', 'admin', 'esa_sampled_ha', 'esa_total_ha']] \n",
    "df_admin_samp['perc_sampled'] = round((df_admin_samp.esa_sampled_ha / df_admin_samp.esa_total_ha * 100), 2)\n",
    "\n",
    "df_admin_samp\n",
    "\n",
    "most_sampled = df_admin_samp.sort_values('perc_sampled', ascending=(False))\n",
    "most_sampled[:10]cayo = df[df.admin == 'Cayo']\n",
    "cayo_samp = cayo[['country', 'admin', 'esa_id', 'esa_sampled_ha', 'esa_total_ha']] \n",
    "cayo_samp = cayo_samp.drop_duplicates(keep='first', ignore_index=True)\n",
    "cayo_sampled = round((cayo_samp.esa_sampled_ha.sum() / cayo_samp.esa_total_ha.sum()) * 100, 2)\n",
    "print(f'The total area sampled in Cayo, Belize is: {cayo_sampled}%')"
   ]
  },
  {
   "cell_type": "code",
   "execution_count": null,
   "id": "173094db",
   "metadata": {},
   "outputs": [],
   "source": [
    "## Admins with most area sampled\n",
    "df_samp = df[['country', 'admin', 'esa_id', 'esa_sampled_ha', 'esa_total_ha']] \n",
    "df_samp = df_samp.drop_duplicates(keep='first', ignore_index=True)\n",
    "\n",
    "# group by country and admin, sum sampled ha and total ha\n",
    "df_admin_samp = df_samp.groupby(by=['country', 'admin']).sum().reset_index()\n",
    "df_admin_samp = df_admin_samp[['country', 'admin', 'esa_sampled_ha', 'esa_total_ha']] \n",
    "df_admin_samp['perc_sampled'] = round((df_admin_samp.esa_sampled_ha / df_admin_samp.esa_total_ha * 100), 2)"
   ]
  },
  {
   "cell_type": "code",
   "execution_count": null,
   "id": "8cb9cf82",
   "metadata": {},
   "outputs": [],
   "source": [
    "df_admin_samp"
   ]
  },
  {
   "cell_type": "code",
   "execution_count": null,
   "id": "c1bd683f",
   "metadata": {},
   "outputs": [],
   "source": [
    "most_sampled = df_admin_samp.sort_values('perc_sampled', ascending=(False))\n",
    "most_sampled[:10]"
   ]
  },
  {
   "cell_type": "markdown",
   "id": "85efd449",
   "metadata": {},
   "source": [
    "### Common Land Covers (per country)\n",
    "The following horizontal barcharts visualize the most common IPCC and ESA land cover classes for a specific country, in descending order."
   ]
  },
  {
   "cell_type": "code",
   "execution_count": null,
   "id": "ba0f46c7",
   "metadata": {},
   "outputs": [],
   "source": [
    "def lcc_country_countplot(country, data, figsize):\n",
    "    \n",
    "    '''\n",
    "    Plots a seaborn countplot of the number of pixels that fall into each land cover class. \n",
    "    First plot is for ESA, second is for IPCC. \n",
    "    '''\n",
    "    \n",
    "    plt.figure(figsize=figsize)\n",
    "\n",
    "    # plot ESA class counta\n",
    "    ax1 = plt.subplot(2,1,1)\n",
    "    sns.countplot(y='esa_class',\n",
    "              data=data,\n",
    "              palette='Greens_r',\n",
    "              order=data.esa_class.value_counts().index,\n",
    "              ax=ax1)\n",
    "    ax1.set_title(f'ESA Land Cover Classes in {country}')\n",
    "    ax1.set_xlabel('Frequency')\n",
    "    ax1.set_ylabel(' ');\n",
    "    \n",
    "    \n",
    "    # plot IPCC class count\n",
    "    ax2 = plt.subplot(2,1,2)\n",
    "    sns.countplot(y='ipcc_class',\n",
    "                  data=data,\n",
    "                  palette='Greens_r',\n",
    "                  order=data.ipcc_class.value_counts().index,\n",
    "                  ax=ax2)\n",
    "    ax2.set_title(f'IPCC Land Cover Classes in {country}')\n",
    "    ax2.set_xlabel('Frequency')\n",
    "    ax2.set_ylabel(' ')\n",
    "    \n",
    "    plt.tight_layout;\n",
    "    \n",
    "    return None"
   ]
  },
  {
   "cell_type": "code",
   "execution_count": null,
   "id": "06c7727d",
   "metadata": {},
   "outputs": [],
   "source": [
    "lcc_country_countplot('El Salvador', es_above, (10,10))"
   ]
  },
  {
   "cell_type": "code",
   "execution_count": null,
   "id": "73944b85",
   "metadata": {},
   "outputs": [],
   "source": [
    "lcc_country_countplot('San Miguel', san_mig, (10,10))"
   ]
  },
  {
   "cell_type": "markdown",
   "id": "0e1ee7b5",
   "metadata": {},
   "source": [
    "### Urban Areas: El Salvador\n",
    "What does tree cover look like in the urban land cover class?  \n",
    "How can we visualize the portion of urban tree cover that meets the FAO forest cover criterion of >10% tree cover?"
   ]
  },
  {
   "cell_type": "code",
   "execution_count": null,
   "id": "ccecc51c",
   "metadata": {},
   "outputs": [],
   "source": [
    "# get the sum of ha of tree cover for each 10% threshold\n",
    "es = pd.read_csv('El Salvador/El Salvador_statistics.csv')\n",
    "urban = es[es.esa_id == 190]\n",
    "urban = urban.groupby(by=['admin', 'tree_cover_class']).sum().reset_index()\n",
    "urban = urban[['admin', 'tree_cover_class', 'esa_sampled_ha', 'esa_total_ha', 'tof_ha']]\n",
    "urban_usulutan = urban[urban.admin == 'Usulután']\n",
    "\n",
    "plt.figure(figsize = (8,6))\n",
    "x = ['0-9%','10-19%','20-29%','30-39%','40-49%','50-59%','60-69%','70-79%','80-89%','90-99%']\n",
    "#x = list(sorted(set(urban_usulutan.tree_cover_class)))\n",
    "\n",
    "variance = [15, 20, 4, 12, 4, 5, 10, 6, 8, 10]\n",
    "\n",
    "x_pos = [i for i, _ in enumerate(x)]\n",
    "\n",
    "plt.barh(x_pos, list(urban_usulutan.tof_ha), color='green', xerr=variance)\n",
    "plt.ylabel(\" \")\n",
    "plt.xlabel(\"Total ha\")\n",
    "plt.title(\"Urban Tree Cover by Threshold: Usulután, El Salvador\")\n",
    "\n",
    "plt.yticks(x_pos, x);"
   ]
  },
  {
   "cell_type": "code",
   "execution_count": null,
   "id": "ea64babe",
   "metadata": {},
   "outputs": [],
   "source": [
    "def urban_triptych(tml_filepath, esa_filepath, admin):\n",
    "    \n",
    "    tml = rs.open(tml_filepath).read(1)\n",
    "    esa = rs.open(esa_filepath).read(1)\n",
    "\n",
    "    # mask out no data values for plotting\n",
    "    tml_ma = np.ma.masked_where(tml == 255, tml, copy=True)\n",
    "    esa_ma = np.ma.masked_where(esa == 255, esa, copy=True)\n",
    "\n",
    "    # mask out non-urban land covers\n",
    "    esa_ma_urban = masked_array(esa_ma, esa_ma != 190.) \n",
    "    tml_urban = masked_array(tml_ma, esa_ma != 190.)\n",
    "\n",
    "\n",
    "    plt.figure(figsize=(20,20))\n",
    "    fontsize = 18\n",
    "\n",
    "    # plot admin with urban land cover overlay\n",
    "    plt.subplot(1,3,1)\n",
    "    plt.imshow(tml_ma, cmap='Greens', vmin=0, vmax=100)\n",
    "    plt.imshow(esa_ma_urban, cmap='Reds_r')\n",
    "    plt.title(f'Urban Land Cover in {admin}', fontsize=fontsize)\n",
    "    plt.axis('off')\n",
    "\n",
    "    # plot tree cover in urban land cover class only\n",
    "    plt.subplot(1,3,2)\n",
    "    plt.imshow(tml_urban, cmap='Greens')\n",
    "    plt.title(f'Tree Cover in Urban Areas in {admin}', fontsize=fontsize)\n",
    "    plt.axis('off')\n",
    "\n",
    "    # plot tree cover across admin and binary map for 10% threshold\n",
    "    plt.subplot(1,3,3)\n",
    "    cmap = ListedColormap(['mediumpurple', 'navy'])\n",
    "    norm = colors.BoundaryNorm([0, 10, 50], cmap.N) # .N is count\n",
    "    plt.imshow(tml_ma, cmap='Greens', vmin=0, vmax=100)\n",
    "    binary_map = plt.imshow(tml_urban, cmap=cmap, norm=norm)\n",
    "    plt.title(f\"Tree Cover Above and Below \\n 10% Threshold in {admin}\", fontsize=fontsize)\n",
    "    #plt.colorbar(binary_map, boundaries=bounds, ticks=[0, 10, 100], shrink=0.25)\n",
    "    plt.axis('off')\n",
    "\n",
    "    # add legend\n",
    "    legend_labels = {'navy':'>10% tree cover','mediumpurple':'<10% tree cover'}\n",
    "    patches = [Patch(color=color, label=label)\n",
    "               for color, label in legend_labels.items()]\n",
    "    plt.legend(handles=patches,\n",
    "              bbox_to_anchor=(1.35, 1),\n",
    "              facecolor=\"white\",\n",
    "              fontsize=14)\n",
    "    \n",
    "    plt.tight_layout();\n",
    "    return None"
   ]
  },
  {
   "cell_type": "code",
   "execution_count": null,
   "id": "9d97b4b7",
   "metadata": {},
   "outputs": [],
   "source": [
    "urban_triptych('El Salvador/San Salvador.tif', \n",
    "                  'El Salvador/San Salvador_esa.tif', \n",
    "                  'San Salvador')"
   ]
  },
  {
   "cell_type": "code",
   "execution_count": null,
   "id": "741789a8",
   "metadata": {},
   "outputs": [],
   "source": [
    "urban_triptych('El Salvador/Usulután.tif', \n",
    "                  'El Salvador/Usulután_esa.tif', \n",
    "                  'Usulután')"
   ]
  },
  {
   "cell_type": "code",
   "execution_count": null,
   "id": "d98c046f",
   "metadata": {},
   "outputs": [],
   "source": [
    "urban_triptych('El Salvador/La Libertad.tif', \n",
    "                  'El Salvador/La Libertad_esa.tif', \n",
    "                  'La Libertad')"
   ]
  },
  {
   "cell_type": "code",
   "execution_count": null,
   "id": "3dc815fa",
   "metadata": {},
   "outputs": [],
   "source": [
    "urban_triptych('El Salvador/Morazán.tif', \n",
    "                  'El Salvador/Morazán_esa.tif', \n",
    "                  'Morazán')"
   ]
  },
  {
   "cell_type": "code",
   "execution_count": null,
   "id": "655ec279",
   "metadata": {},
   "outputs": [],
   "source": [
    "plt.figure(figsize=(30,30))\n",
    "fontsize = 16\n",
    "cmap = ListedColormap(['maroon', 'mediumpurple'])\n",
    "norm = colors.BoundaryNorm([0, 10, 50], cmap.N) # .N is count\n",
    "tree_cover = plt.imshow(tml_ma, cmap='Greens', vmin=0, vmax=100)\n",
    "binary_map = plt.imshow(tml_urban, cmap=cmap, norm=norm)\n",
    "#plt.title(f\"Tree Cover Above and Below \\n 10% Threshold in San Salvador, El Salvador\", fontsize=fontsize)\n",
    "plt.axis('off')\n",
    "plt.colorbar(tree_cover, ticks=np.arange(0,110,10), shrink=0.25, label='tree extent')\n",
    "\n",
    "#add legend\n",
    "legend_labels = {'mediumpurple':'>10% tree cover in urban areas','maroon':'<10% tree cover in urban areas'}\n",
    "patches = [Patch(color=color, label=label)\n",
    "           for color, label in legend_labels.items()]\n",
    "plt.legend(handles=patches,\n",
    "          bbox_to_anchor=(1.35, 1),\n",
    "          facecolor=\"white\",\n",
    "          fontsize=14);\n",
    "    "
   ]
  },
  {
   "cell_type": "markdown",
   "id": "6bee09cc",
   "metadata": {},
   "source": [
    "### Total Hectares per Class: Hansen v TOF\n",
    "What does the distribution look like across all land cover classes?"
   ]
  },
  {
   "cell_type": "code",
   "execution_count": null,
   "id": "fafbf6ab",
   "metadata": {},
   "outputs": [],
   "source": [
    "# All land cover classes \n",
    "fig, ax = plt.subplots(figsize=(12,10))\n",
    "\n",
    "sns.scatterplot(x='tof_total_ha', \n",
    "               y='hansen_total_ha', \n",
    "               data=landcover, \n",
    "               hue='lc_class',\n",
    "               marker='x',\n",
    "               s=30,\n",
    "               palette=colors,\n",
    "               ax=ax)\n",
    "ax.set(xlim=(0, 8000), ylim=(0, 8000))\n",
    "ax.plot(np.arange(0.001, 8000, 1), color='grey', linewidth=.2)\n",
    "ax.set_title('Hectares of Tree Cover per Land Cover Class')\n",
    "ax.set_xlabel('TOF total hectares')\n",
    "ax.set_ylabel('Hansen total hectares')\n",
    "\n",
    "\n",
    "plt.legend(bbox_to_anchor=(1.0, 1), title='ESA Land Cover Class');"
   ]
  },
  {
   "cell_type": "code",
   "execution_count": null,
   "id": "572be270",
   "metadata": {},
   "outputs": [],
   "source": [
    "under500 = landcover[(landcover.tof_total_ha <= 500) & (landcover.hansen_total_ha <= 500)]\n",
    "under2k = landcover[(landcover.tof_total_ha <= 2000) & (landcover.hansen_total_ha <= 2000)]"
   ]
  },
  {
   "cell_type": "code",
   "execution_count": null,
   "id": "a3a245cb",
   "metadata": {},
   "outputs": [],
   "source": [
    "# All land cover classes for obs <2000ha\n",
    "fig, ax = plt.subplots(figsize=(12,10))\n",
    "\n",
    "sns.scatterplot(x='tof_total_ha', \n",
    "               y='hansen_total_ha', \n",
    "               data=under2k, \n",
    "               hue='lc_class',\n",
    "               marker='x',\n",
    "               s=30,\n",
    "               palette=colors,\n",
    "               ax=ax)\n",
    "ax.set(xlim=(0, 2000), ylim=(0, 2000))\n",
    "ax.plot(np.arange(0.001, 3000, 1), color='grey', linewidth=.2)\n",
    "ax.set_title('Hectares of Tree Cover per Land Cover Class (obs <2000ha)')\n",
    "ax.set_xlabel('TOF total hectares')\n",
    "ax.set_ylabel('Hansen total hectares')\n",
    "\n",
    "\n",
    "plt.legend(bbox_to_anchor=(1.0, 1), title='ESA Land Cover Class');"
   ]
  },
  {
   "cell_type": "code",
   "execution_count": null,
   "id": "8c6ba653",
   "metadata": {},
   "outputs": [],
   "source": [
    "ipcc_means(es_above_new, (13,7), 'El Salvador (median bins)')"
   ]
  },
  {
   "cell_type": "code",
   "execution_count": null,
   "id": "ff45e959",
   "metadata": {},
   "outputs": [],
   "source": [
    "plt.figure(figsize=(13,7))\n",
    "\n",
    "width = 0.4\n",
    "pos1 = np.arange(len(nic_ipcc_means))\n",
    "pos2 = pos1 + width\n",
    "\n",
    "sns.scatterplot(x='tof_total_ha', \n",
    "               y='hansen_total_ha', \n",
    "               data=under500, \n",
    "               hue='lc_class',\n",
    "               marker='x',\n",
    "               s=30,\n",
    "               palette=colors,\n",
    "               ax=ax)\n",
    "ax.set(xlim=(0, 500), ylim=(0, 500))\n",
    "ax.plot(np.arange(0.001, 500, 1), color='grey', linewidth=.2)\n",
    "ax.set_title('Hectares of Tree Cover per Land Cover Class (obs <500ha)')\n",
    "ax.set_xlabel('TOF total hectares')\n",
    "ax.set_ylabel('Hansen total hectares')\n",
    "\n",
    "plt.legend(bbox_to_anchor=(1.0, 1), title='ESA Land Cover Class');"
   ]
  },
  {
   "cell_type": "code",
   "execution_count": null,
   "id": "a4eb81a9",
   "metadata": {},
   "outputs": [],
   "source": [
    "# El Salvador: total ha >10% cover per IPCC class\n",
    "\n",
    "forest = es_above[es_above.ipcc_class == 'Forest']\n",
    "agriculture = es_above[es_above.ipcc_class == 'Agriculture']\n",
    "settlement = es_above[es_above.ipcc_class == 'Settlement']\n",
    "grassland = es_above[es_above.ipcc_class == 'Grassland']\n",
    "wetland = es_above[es_above.ipcc_class == 'Wetland']\n",
    "other = es_above[es_above.ipcc_class == 'Other']\n",
    "\n",
    "plt.figure(figsize=(14,14))\n",
    "\n",
    "ax1 = plt.subplot(3,2,1)\n",
    "sns.scatterplot(x='tof_10+', \n",
    "               y='hans_10+', \n",
    "               data=forest, \n",
    "               hue='esa_class',\n",
    "               marker='x',\n",
    "               s=30,\n",
    "               #palette=colors[:5],\n",
    "               ax=ax1,\n",
    "               legend=False)\n",
    "ax1.set(xlim=(0, 20000), ylim=(0, 20000))\n",
    "ax1.plot(np.arange(0.001, 20000, 1), color='grey', linewidth=.2)\n",
    "ax1.set_title('Total ha with >10% cover IPCC Forest Class')\n",
    "ax1.set_xlabel('TOF total ha')\n",
    "ax1.set_ylabel('Hansen total ha')\n",
    "\n",
    "ax2 = plt.subplot(3,2,2)\n",
    "sns.scatterplot(x='tof_10+', \n",
    "               y='hans_10+', \n",
    "               data=agriculture, \n",
    "               hue='esa_class',\n",
    "               marker='x',\n",
    "               s=30,\n",
    "               #palette=colors[4:8],\n",
    "               ax=ax2,\n",
    "               legend=False)\n",
    "ax2.set(xlim=(0, 12000), ylim=(0, 12000))\n",
    "ax2.plot(np.arange(0.001, 12000, 1), color='grey', linewidth=.2)\n",
    "ax2.set_title('Total ha with >10% cover IPCC Agriculture Class')\n",
    "ax2.set_xlabel('TOF total ha')\n",
    "ax2.set_ylabel('Hansen total ha')\n",
    "\n",
    "\n",
    "ax3 = plt.subplot(3,2,3)\n",
    "sns.scatterplot(x='tof_10+', \n",
    "               y='hans_10+', \n",
    "               data=settlement, \n",
    "               hue='esa_class',\n",
    "               marker='x',\n",
    "               s=30,\n",
    "               #palette=colors[8:9],\n",
    "               ax=ax3,\n",
    "               legend=False)\n",
    "ax3.set(xlim=(0, 4000), ylim=(0, 4000))\n",
    "ax3.plot(np.arange(0.001, 4000, 1), color='grey', linewidth=.2)\n",
    "ax3.set_title('Total ha with >10% cover IPCC Settlement Class')\n",
    "ax3.set_xlabel('TOF total ha')\n",
    "ax3.set_ylabel('Hansen total ha')\n",
    "\n",
    "ax4 = plt.subplot(3,2,4)\n",
    "sns.scatterplot(x='tof_10+', \n",
    "               y='hans_10+', \n",
    "               data=grassland, \n",
    "               hue='esa_class',\n",
    "               marker='x',\n",
    "               s=30,\n",
    "               #palette=colors[9:11],\n",
    "               ax=ax4,\n",
    "               legend=False)\n",
    "ax4.set(xlim=(0, 300), ylim=(0, 300))\n",
    "ax4.plot(np.arange(0.001, 1000, 1), color='grey', linewidth=.2)\n",
    "ax4.set_title('Total ha with >10% cover IPCC Grassland Class')\n",
    "ax4.set_xlabel('TOF total ha')\n",
    "ax4.set_ylabel('Hansen total ha')\n",
    "\n",
    "ax5 = plt.subplot(3,2,5)\n",
    "sns.scatterplot(x='tof_10+', \n",
    "               y='hans_10+', \n",
    "               data=wetland, \n",
    "               hue='esa_class',\n",
    "               marker='x',\n",
    "               s=30,\n",
    "               #palette=colors[11:12],\n",
    "               ax=ax5,\n",
    "               legend=False)\n",
    "ax5.set(xlim=(0, 100), ylim=(0, 100))\n",
    "ax5.plot(np.arange(0.001, 100, 1), color='grey', linewidth=.2)\n",
    "ax5.set_title('Total ha with >10% cover IPCC Wetland Class')\n",
    "ax5.set_xlabel('TOF total ha')\n",
    "ax5.set_ylabel('Hansen total ha')\n",
    "\n",
    "ax6 = plt.subplot(3,2,6)\n",
    "sns.scatterplot(x='tof_10+', \n",
    "               y='hans_10+', \n",
    "               data=other, \n",
    "               hue='esa_class',\n",
    "               marker='x',\n",
    "               s=30,\n",
    "               #palette=colors[12:],\n",
    "               ax=ax6,\n",
    "               legend=False)\n",
    "ax6.set(xlim=(0, 6000), ylim=(0, 6000))\n",
    "ax6.plot(np.arange(0.001, 6000, 1), color='grey', linewidth=.2)\n",
    "ax6.set_title('Total ha for IPCC Other Class')\n",
    "ax6.set_xlabel('TOF total ha')\n",
    "ax6.set_ylabel('Hansen total ha')\n",
    "\n",
    "# handles, labels = ax1.get_legend_handles_labels()\n",
    "# fig.legend(handles, labels, loc='upper center')\n",
    "plt.tight_layout();\n"
   ]
  },
  {
   "cell_type": "code",
   "execution_count": null,
   "id": "4ab27e02",
   "metadata": {},
   "outputs": [],
   "source": [
    "plt.figure(figsize=(16,10))\n",
    "opico_esa = rs.open('El Salvador/clipped_rasters/esa/Opico.tif').read(1)\n",
    "opico = landcover[landcover.jurisdiction == 'Opico']\n",
    "\n",
    "\n",
    "ax1 = plt.subplot(1,2,1)\n",
    "\n",
    "width = 0.4\n",
    "pos1 = np.arange(len(opico))\n",
    "pos2 = pos1 + width\n",
    "\n",
    "ax1.barh(pos1, opico['tof_mean_tc'], width, color='dodgerblue', edgecolor='white', label='TOF')\n",
    "ax1.barh(pos2, opico['hansen_mean_tc'], width, color='darkred', edgecolor='white', label='Hansen')\n",
    " \n",
    "plt.xlabel('% Tree Cover')\n",
    "plt.yticks(pos1 + width / 2, opico['lc_class'].values)\n",
    "\n",
    "plt.legend()\n",
    "ax1.set_title('Mean Percent Tree Cover per Land Cover Class in Opico')\n",
    "plt.grid(axis='x', linestyle='-', linewidth=.3)\n",
    "\n",
    "ax2 = plt.subplot(1,2,2)\n",
    "ax2.imshow(opico_esa, cmap='Paired', vmin=0, vmax=100)\n",
    "ax2.set_title('Land Cover Classes in Opico');\n"
   ]
  },
  {
   "cell_type": "markdown",
   "id": "23d63907",
   "metadata": {},
   "source": [
    "## IPCC and TML \n",
    "TML tree cover assessments per IPCC land cover classifications. Some sections compare TML estimates to Hansen et al per land cover class.\n",
    "- What do the above thresholds look like for tree cover per IPCC class?\n",
    "- Which land cover classes have the highest mean tree cover according to TOF and Hansen? \n",
    "- Which have the highest number of hectares? "
   ]
  },
  {
   "cell_type": "code",
   "execution_count": null,
   "id": "08258720",
   "metadata": {},
   "outputs": [],
   "source": [
    "# create dataframes for each ipcc land cover class\n",
    "# note for any groupings or aggregations there will be duplicate rows for ha and mean\n",
    "\n",
    "def esa_to_ipcc(df):\n",
    "    tree_cover = df[df.esa_id.isin([50, 60, 70, 80, 90, 160, 170])]\n",
    "    mosaic = df[df.esa_id.isin([30, 40, 100, 110])]\n",
    "    cropland = df[df.esa_id.isin([10, 11, 12, 20])]\n",
    "    settlement = df[df.esa_id == 190]\n",
    "    herb_shrub = df[df.esa_id.isin([120, 130, 140, 150, 180, 200])]\n",
    "    other = df[df.esa_id.isin([0, 210, 220])]\n",
    "    return tree_cover, mosaic, cropland, settlement, herb_shrub, other"
   ]
  },
  {
   "cell_type": "code",
   "execution_count": null,
   "id": "d0882c3a",
   "metadata": {},
   "outputs": [],
   "source": [
    "def ipcc_means(above_data, figsize, country):\n",
    "    \n",
    "    ipcc_means = above_data[['tof_mean_tc_lc', \n",
    "                             'hans_mean_tc_lc', \n",
    "                             'ipcc_class']].groupby('ipcc_class').mean().reset_index()\n",
    "    \n",
    "    ipcc_means = ipcc_means[(ipcc_means.ipcc_class != 'Wetland') & (ipcc_means.ipcc_class != 'Grassland')]\n",
    "     \n",
    "    plt.figure(figsize=figsize)\n",
    "    width = 0.4\n",
    "    pos1 = np.arange(len(ipcc_means))\n",
    "    pos2 = pos1 + width\n",
    "\n",
    "    plt.subplot(2,2,1)\n",
    "    plt.barh(pos1, ipcc_means['tof_mean_tc_lc'], width, color='sandybrown', edgecolor='white', label='TOF')\n",
    "    plt.barh(pos2, ipcc_means['hans_mean_tc_lc'], width, color='mediumpurple', edgecolor='white', label='Hansen')\n",
    "\n",
    "    plt.xlabel('% Tree Cover')\n",
    "    plt.yticks(pos1 + width / 2, ipcc_means['ipcc_class'].values)\n",
    "\n",
    "    plt.legend()\n",
    "    plt.title(f'Mean % Tree Cover per IPCC Land Cover Class in {country}')\n",
    "    plt.grid(axis='x', linestyle='-', linewidth=.3)"
   ]
  },
  {
   "cell_type": "code",
   "execution_count": null,
   "id": "f0238fb3",
   "metadata": {},
   "outputs": [],
   "source": [
    "ipcc_means(es_above, (13,7), 'El Salvador')"
   ]
  },
  {
   "cell_type": "code",
   "execution_count": null,
   "id": "ac8144d6",
   "metadata": {},
   "outputs": [],
   "source": [
    "ipcc_means(es_above_new, (13,7), 'El Salvador (median bins)')"
   ]
  },
  {
   "cell_type": "code",
   "execution_count": null,
   "id": "cb4fea1e",
   "metadata": {},
   "outputs": [],
   "source": [
    "plt.figure(figsize=(13,7))\n",
    "\n",
    "width = 0.4\n",
    "pos1 = np.arange(len(nic_ipcc_means))\n",
    "pos2 = pos1 + width\n",
    "\n",
    "# Honduras\n",
    "plt.subplot(2,2,1)\n",
    "plt.barh(pos1, hon_ipcc_means['tof_mean_tc_lc'], width, color='sandybrown', edgecolor='white', label='TOF')\n",
    "plt.barh(pos2, hon_ipcc_means['hans_mean_tc_lc'], width, color='mediumpurple', edgecolor='white', label='Hansen')\n",
    " \n",
    "plt.xlabel('% Tree Cover')\n",
    "plt.yticks(pos1 + width / 2, hon_ipcc_means['ipcc_class'].values)\n",
    "\n",
    "plt.legend()\n",
    "plt.title('Mean % Tree Cover per IPCC Land Cover Class in Honduras')\n",
    "plt.grid(axis='x', linestyle='-', linewidth=.3)\n",
    "\n",
    "# Nicaragua\n",
    "plt.subplot(2,2,2)\n",
    "plt.barh(pos1, nic_ipcc_means['tof_mean_tc_lc'], width, color='sandybrown', edgecolor='white', label='TOF')\n",
    "plt.barh(pos2, nic_ipcc_means['hans_mean_tc_lc'], width, color='mediumpurple', edgecolor='white', label='Hansen')\n",
    " \n",
    "plt.xlabel('% Tree Cover')\n",
    "plt.yticks(pos1 + width / 2, nic_ipcc_means['ipcc_class'].values)\n",
    "\n",
    "plt.legend()\n",
    "plt.title('Mean % Tree Cover per IPCC Land Cover Class in Nicaragua')\n",
    "plt.grid(axis='x', linestyle='-', linewidth=.3)\n",
    "\n",
    "\n",
    "# Guatemala\n",
    "plt.subplot(2,2,3)\n",
    "plt.barh(pos1, gua_ipcc_means['tof_mean_tc_lc'], width, color='sandybrown', edgecolor='white', label='TOF')\n",
    "plt.barh(pos2, gua_ipcc_means['hans_mean_tc_lc'], width, color='mediumpurple', edgecolor='white', label='Hansen')\n",
    " \n",
    "plt.xlabel('% Tree Cover')\n",
    "plt.yticks(pos1 + width / 2, gua_ipcc_means['ipcc_class'].values)\n",
    "\n",
    "plt.legend()\n",
    "plt.title('Mean % Tree Cover per IPCC Land Cover Class in Guatemala')\n",
    "plt.grid(axis='x', linestyle='-', linewidth=.3)\n",
    "\n",
    "# Panama\n",
    "plt.subplot(2,2,4)\n",
    "plt.barh(pos1, pan_ipcc_means['tof_mean_tc_lc'], width, color='sandybrown', edgecolor='white', label='TOF')\n",
    "plt.barh(pos2, pan_ipcc_means['hans_mean_tc_lc'], width, color='mediumpurple', edgecolor='white', label='Hansen')\n",
    " \n",
    "plt.xlabel('% Tree Cover')\n",
    "plt.yticks(pos1 + width / 2, pan_ipcc_means['ipcc_class'].values)\n",
    "\n",
    "plt.legend()\n",
    "plt.title('Mean % Tree Cover per IPCC Land Cover Class in Panama')\n",
    "plt.grid(axis='x', linestyle='-', linewidth=.3)\n",
    "plt.tight_layout()"
   ]
  },
  {
   "cell_type": "markdown",
   "id": "fe6bab95",
   "metadata": {},
   "source": [
    "### Above IPCC Thresholds"
   ]
  },
  {
   "cell_type": "code",
   "execution_count": null,
   "id": "ff4ef332",
   "metadata": {},
   "outputs": [],
   "source": [
    "def above_thresholds_ipcc(data): # takes in the country_above dataframe\n",
    "    \n",
    "    plt.figure(figsize=(15,12))\n",
    "\n",
    "    # prepare the dataframes: groupby IPCC class, sum the total ha\n",
    "    above_tof = data.drop(columns=[col for col in data.columns if col.startswith('hans')] + ['esa_id','tof_mean_tc_lc'])\n",
    "    above_tof = above_tof.groupby('ipcc_class').sum().T.reset_index()\n",
    "    \n",
    "    above_hans = data.drop(columns=[col for col in data.columns if col.startswith('tof')] + ['esa_id','hans_mean_tc_lc'])\n",
    "    above_hans = above_hans.groupby('ipcc_class').sum().T.reset_index()\n",
    "\n",
    "    # format bars\n",
    "    width = 0.4\n",
    "    pos1 = np.arange(len(above_tof))\n",
    "    pos2 = pos1 + width\n",
    "    labels = ['>10%', '>20%', '>30%', '>40%', '>50%','>60%', '>70%', '>80%', '>90%']\n",
    "\n",
    "    # Forest\n",
    "    plt.subplot(2,2,1)\n",
    "    plt.barh(pos1, above_tof['Forest'], width, color='dodgerblue', edgecolor='white', label='TOF')\n",
    "    plt.barh(pos2, above_hans['Forest'], width, color='darkred', edgecolor='white', label='Hansen')\n",
    "\n",
    "    plt.xlabel('Number of Hectares')\n",
    "    plt.yticks(pos1 + width / 2, labels)\n",
    "    plt.title('Tree Cover Thresholds for IPCC Forest Class')\n",
    "    plt.grid(axis='x', linestyle='-', linewidth=.3)\n",
    "\n",
    "    # Other\n",
    "    plt.subplot(2,2,2)\n",
    "    plt.barh(pos1, above_tof['Other'], width, color='dodgerblue', edgecolor='white', label='TOF')\n",
    "    plt.barh(pos2, above_hans['Other'], width, color='darkred', edgecolor='white', label='Hansen')\n",
    "\n",
    "    plt.xlabel('Number of Hectares')\n",
    "    plt.yticks(pos1 + width / 2, labels)\n",
    "    plt.title('Tree Cover Thresholds for IPCC Other Class')\n",
    "    plt.grid(axis='x', linestyle='-', linewidth=.3)\n",
    "\n",
    "    # Settlement\n",
    "    plt.subplot(2,2,3)\n",
    "    plt.barh(pos1, above_tof['Settlement'], width, color='dodgerblue', edgecolor='white', label='TOF')\n",
    "    plt.barh(pos2, above_hans['Settlement'], width, color='darkred', edgecolor='white', label='Hansen')\n",
    "\n",
    "    plt.xlabel('Number of Hectares')\n",
    "    plt.yticks(pos1 + width / 2, labels)\n",
    "    plt.title('Tree Cover Thresholds for IPCC Settlement Class')\n",
    "    plt.grid(axis='x', linestyle='-', linewidth=.3)\n",
    "\n",
    "    # Agriculture\n",
    "    plt.subplot(2,2,4)\n",
    "    plt.barh(pos1, above_tof['Agriculture'], width, color='dodgerblue', edgecolor='white', label='TOF')\n",
    "    plt.barh(pos2, above_hans['Agriculture'], width, color='darkred', edgecolor='white', label='Hansen')\n",
    "\n",
    "    plt.xlabel('Number of Hectares')\n",
    "    plt.yticks(pos1 + width / 2, labels)\n",
    "    plt.title('Tree Cover Thresholds for IPCC Agriculture Class')\n",
    "    plt.grid(axis='x', linestyle='-', linewidth=.3)\n",
    "    plt.legend();\n",
    "    \n",
    "    return None"
   ]
  },
  {
   "cell_type": "code",
   "execution_count": null,
   "id": "7ddc192c",
   "metadata": {},
   "outputs": [],
   "source": [
    "above_thresholds_ipcc(gua_above)"
   ]
  },
  {
   "cell_type": "markdown",
   "id": "38c4ae0e",
   "metadata": {},
   "source": [
    "These charts illustrate the total number of hectares of tree cover over 10% increments for Hansen and TOF data. Total hectares are aggregated by IPCC land cover type across all the admin districts in a country. Specifically, this section looks at the comparisons by Forest, Agriculture, Other and Settlement IPCC land cover classes (not pictured: Grassland and Wetland)."
   ]
  },
  {
   "cell_type": "code",
   "execution_count": null,
   "id": "056a3b8b",
   "metadata": {},
   "outputs": [],
   "source": [
    "# sum num hectares in each threshold to see totals by IPCC class for Costa Rica\n",
    "cr_ipcc_sums = cr_above.drop(columns=['esa_id', 'tof_mean_tc_lc', 'hans_mean_tc_lc']).groupby('ipcc_class').sum().reset_index()\n",
    "cr_ipcc_sums"
   ]
  },
  {
   "cell_type": "code",
   "execution_count": null,
   "id": "7ba85235",
   "metadata": {},
   "outputs": [],
   "source": [
    "cr_above_tof = cr_above.drop(columns=[col for col in cr_above.columns if col.startswith('hans')] + ['esa_id','tof_mean_tc_lc'])\n",
    "cr_above_tof = cr_above_tof.groupby('ipcc_class').sum().T.reset_index()"
   ]
  },
  {
   "cell_type": "code",
   "execution_count": null,
   "id": "fe3ce49a",
   "metadata": {},
   "outputs": [],
   "source": [
    "cr_above_hans = cr_above.drop(columns=[col for col in cr_above.columns if col.startswith('tof')] + ['esa_id','hans_mean_tc_lc'])\n",
    "cr_above_hans = cr_above_hans.groupby('ipcc_class').sum().T.reset_index()"
   ]
  },
  {
   "cell_type": "code",
   "execution_count": null,
   "id": "65ea3840",
   "metadata": {},
   "outputs": [],
   "source": [
    "mean_per_ipcc = landcover[['tof_mean_tc', \n",
    "                           'hansen_mean_tc', \n",
    "                           'ipcc_class']].groupby('ipcc_class').mean().reset_index()\n",
    "plt.figure(figsize=(8,6))\n",
    "\n",
    "width = 0.4\n",
    "pos1 = np.arange(len(mean_per_ipcc))\n",
    "pos2 = pos1 + width\n",
    "\n",
    "plt.barh(pos1, mean_per_ipcc['tof_mean_tc'], width, color='dodgerblue', edgecolor='white', label='TOF')\n",
    "plt.barh(pos2, mean_per_ipcc['hansen_mean_tc'], width, color='darkred', edgecolor='white', label='Hansen')\n",
    " \n",
    "plt.xlabel('% Tree Cover')\n",
    "plt.yticks(pos1 + width / 2, mean_per_ipcc['ipcc_class'].values)\n",
    "\n",
    "plt.legend()\n",
    "plt.title('Mean Percent Tree Cover per IPCC Land Cover Classes')\n",
    "plt.grid(axis='x', linestyle='-', linewidth=.3);\n"
   ]
  },
  {
   "cell_type": "code",
   "execution_count": null,
   "id": "4361b798",
   "metadata": {},
   "outputs": [],
   "source": [
    "ha_per_ipcc = landcover[['tof_total_ha', \n",
    "                        'hansen_total_ha', \n",
    "                        'ipcc_class']].groupby('ipcc_class').sum().reset_index()\n",
    "\n",
    "plt.figure(figsize=(13,5))\n",
    "\n",
    "width = 0.4\n",
    "pos1 = np.arange(len(ha_per_ipcc))\n",
    "pos2 = pos1 + width\n",
    "\n",
    "plt.barh(pos1, ha_per_ipcc['tof_total_ha'], width, color='dodgerblue', edgecolor='white', label='TOF')\n",
    "plt.barh(pos2, ha_per_ipcc['hansen_total_ha'], width, color='darkred', edgecolor='white', label='Hansen')\n",
    " \n",
    "plt.xlabel('Tree Cover (ha)')\n",
    "plt.yticks(pos1 + width / 2, ha_per_ipcc['ipcc_class'].values)\n",
    "\n",
    "plt.legend()\n",
    "plt.title('Total Hectares Tree Cover per IPCC Land Cover Classes')\n",
    "plt.grid(axis='x', linestyle='-', linewidth=.3);\n"
   ]
  },
  {
   "cell_type": "code",
   "execution_count": null,
   "id": "ceaab558",
   "metadata": {},
   "outputs": [],
   "source": [
    "ha_per_lc = landcover[['tof_total_ha', \n",
    "                       'hansen_total_ha', \n",
    "                       'lc_class']].groupby('lc_class').sum().sort_values('tof_total_ha').reset_index()\n",
    "\n",
    "mean_per_lc = landcover[['tof_mean_tc', \n",
    "                       'hansen_mean_tc', \n",
    "                       'lc_class']].groupby('lc_class').mean().sort_values('tof_mean_tc').reset_index()"
   ]
  },
  {
   "cell_type": "code",
   "execution_count": null,
   "id": "881d74f9",
   "metadata": {},
   "outputs": [],
   "source": [
    "plt.figure(figsize=(10,8))\n",
    "\n",
    "width = 0.4\n",
    "pos1 = np.arange(len(mean_per_lc))\n",
    "pos2 = pos1 + width\n",
    "\n",
    "plt.barh(pos1, mean_per_lc['tof_mean_tc'], width, color='dodgerblue', edgecolor='white', label='TOF')\n",
    "plt.barh(pos2, mean_per_lc['hansen_mean_tc'], width, color='darkred', edgecolor='white', label='Hansen')\n",
    " \n",
    "plt.xlabel('% Tree Cover')\n",
    "plt.yticks(pos1 + width / 2, mean_per_lc['lc_class'].values)\n",
    "\n",
    "plt.legend()\n",
    "plt.title('Mean Percent Tree Cover per Land Cover Class')\n",
    "plt.grid(axis='x', linestyle='-', linewidth=.3);"
   ]
  },
  {
   "cell_type": "code",
   "execution_count": null,
   "id": "22f20a99",
   "metadata": {},
   "outputs": [],
   "source": [
    "plt.figure(figsize=(10,8))\n",
    "\n",
    "width = 0.4\n",
    " \n",
    "# Set position of bar on X axis\n",
    "pos1 = np.arange(len(ha_per_lc))\n",
    "pos2 = pos1 + width\n",
    "\n",
    "plt.barh(pos1, ha_per_lc['tof_total_ha'], width, color='dodgerblue', edgecolor='white', label='TOF')\n",
    "plt.barh(pos2, ha_per_lc['hansen_total_ha'], width, color='darkred', edgecolor='white', label='Hansen')\n",
    " \n",
    "# Add xticks on the middle of the group bars\n",
    "plt.xlabel('Tree Cover (ha)')\n",
    "plt.yticks(pos1 + width / 2, ha_per_lc['lc_class'].values)\n",
    " \n",
    "# Create legend & Show graphic\n",
    "plt.legend()\n",
    "plt.title('Total Hectares of Tree Cover per Land Cover Class')\n",
    "plt.grid(axis='x', linestyle='-', linewidth=.3);"
   ]
  },
  {
   "cell_type": "code",
   "execution_count": null,
   "id": "4b195cbd",
   "metadata": {},
   "outputs": [],
   "source": [
    "# zoom in on land categories with smaller count\n",
    "\n",
    "plt.figure(figsize=(10,8))\n",
    "\n",
    "width = 0.4\n",
    " \n",
    "# Set position of bar on X axis\n",
    "pos1 = np.arange(0,7)\n",
    "pos2 = pos1 + width\n",
    "\n",
    "plt.barh(pos1, ha_per_lc['tof_total_ha'][:7], width, color='dodgerblue', edgecolor='white', label='TOF')\n",
    "plt.barh(pos2, ha_per_lc['hansen_total_ha'][:7], width, color='darkred', edgecolor='white', label='Hansen')\n",
    " \n",
    "# Add xticks on the middle of the group bars\n",
    "plt.xlabel('Tree Cover (ha)')\n",
    "plt.yticks(pos1 + width / 2, ha_per_lc['lc_class'].values[:7])\n",
    " \n",
    "# Create legend & Show graphic\n",
    "plt.legend()\n",
    "plt.title('Total Hectares of Tree Cover per Land Cover Class (<700ha)')\n",
    "plt.grid(axis='x', linestyle='-', linewidth=.2);"
   ]
  },
  {
   "cell_type": "markdown",
   "id": "502b2793",
   "metadata": {},
   "source": [
    "### Urban\n",
    "What does tree cover look like in the urban land cover class?"
   ]
  },
  {
   "cell_type": "code",
   "execution_count": null,
   "id": "2af8a645",
   "metadata": {},
   "outputs": [],
   "source": [
    "# get the sum of ha of tree cover for each 10% threshold\n",
    "es = pd.read_csv('El Salvador/El Salvador_statistics.csv')\n",
    "urban = es[es.esa_id == 190]\n",
    "urban = urban.groupby(by=['admin', 'tree_cover_class']).sum().reset_index()\n",
    "urban = urban[['admin', 'tree_cover_class', 'esa_sampled_ha', 'esa_total_ha', 'tof_ha']]\n",
    "urban_usulutan = urban[urban.admin == 'Usulután']\n",
    "\n",
    "plt.figure(figsize = (8,6))\n",
    "x = ['0-9%','10-19%','20-29%','30-39%','40-49%','50-59%','60-69%','70-79%','80-89%','90-99%']\n",
    "#x = list(sorted(set(urban_usulutan.tree_cover_class)))\n",
    "\n",
    "variance = [15, 20, 4, 12, 4, 5, 10, 6, 8, 10]\n",
    "\n",
    "x_pos = [i for i, _ in enumerate(x)]\n",
    "\n",
    "plt.barh(x_pos, list(urban_usulutan.tof_ha), color='green', xerr=variance)\n",
    "plt.ylabel(\" \")\n",
    "plt.xlabel(\"Total ha\")\n",
    "plt.title(\"Urban Tree Cover by Threshold: Usulután, El Salvador\")\n",
    "\n",
    "plt.yticks(x_pos, x);"
   ]
  },
  {
   "cell_type": "markdown",
   "id": "a4206757",
   "metadata": {},
   "source": [
    "### Which cities have the most urban tree cover?"
   ]
  },
  {
   "cell_type": "code",
   "execution_count": null,
   "id": "f76a0095",
   "metadata": {},
   "outputs": [],
   "source": [
    "def top_5_cities(data, figsize, barwidth): # data is above or between dataframe\n",
    "    \n",
    "    # filter the dataframe to top 5 cities with highest tof avg\n",
    "    settlement = data[data.ipcc_class == 'Settlement'].sort_values('tof_mean_tc_lc', ascending=False)[:5]\n",
    "    \n",
    "    labels = settlement.admin\n",
    "    x = np.arange(len(labels))  \n",
    "    width = barwidth  \n",
    "    \n",
    "    plt.figure(figsize=figsize)\n",
    "    plt.bar(x - width/2, settlement.tof_mean_tc_lc, width, label='TOF', color='navy', edgecolor='white')\n",
    "    plt.bar(x + width/2, settlement.hans_mean_tc_lc, width, label='Hansen', color='darkred', edgecolor='white')\n",
    "\n",
    "    plt.title('Top 5 Cities with Highest Avg % Tree Cover (TOF)')\n",
    "    plt.ylabel('% Tree Cover')    \n",
    "    plt.xticks(x, labels=labels, rotation=60)\n",
    "    plt.grid(axis='y', linestyle='-', linewidth=.2)\n",
    "    plt.legend()\n",
    "    plt.tight_layout()\n",
    "    \n",
    "    return None"
   ]
  },
  {
   "cell_type": "code",
   "execution_count": null,
   "id": "3a151598",
   "metadata": {},
   "outputs": [],
   "source": [
    "top_5_cities(es_above, (9,7), 0.35)"
   ]
  },
  {
   "cell_type": "code",
   "execution_count": null,
   "id": "352a39ac",
   "metadata": {},
   "outputs": [],
   "source": [
    "# filter the dataframe to top 5 cities with highest tof avg\n",
    "ag = gua_above[gua_above.ipcc_class == 'Agriculture'].sort_values('tof_mean_tc_lc', ascending=False)[:10]\n",
    "\n",
    "labels = ag.admin\n",
    "x = np.arange(len(labels))  \n",
    "width = .35  \n",
    "\n",
    "plt.figure(figsize=(9,7))\n",
    "plt.bar(x - width/2, ag.tof_mean_tc_lc, width, label='TOF', color='navy', edgecolor='white')\n",
    "plt.bar(x + width/2, ag.hans_mean_tc_lc, width, label='Hansen', color='darkred', edgecolor='white')\n",
    "\n",
    "plt.title('Trees in Ag Areas in Guatemala')\n",
    "plt.ylabel('% Tree Cover')    \n",
    "plt.xticks(x, labels=labels, rotation=60)\n",
    "plt.grid(axis='y', linestyle='-', linewidth=.2)\n",
    "plt.legend()\n",
    "plt.tight_layout()"
   ]
  },
  {
   "cell_type": "markdown",
   "id": "51e33b9f",
   "metadata": {},
   "source": [
    "### Agriculture\n",
    "What does tree cover look like in the urban land cover class?"
   ]
  },
  {
   "cell_type": "code",
   "execution_count": null,
   "id": "220b2ba4",
   "metadata": {},
   "outputs": [],
   "source": [
    "plt.figure(figsize = (8,6))\n",
    "x = ['0-20%', '20-40%', '40-60%', '60-80%', '80-100%']\n",
    "totals = [gua_ag.tof_0_20.sum(),\n",
    "          gua_ag.tof_20_40.sum(),\n",
    "          gua_ag.tof_40_60.sum(),\n",
    "          gua_ag.tof_60_80.sum(),\n",
    "          gua_ag.tof_80_100.sum()]\n",
    "\n",
    "variance = [25000, 20000, 74000, 92000, 45000]\n",
    "\n",
    "x_pos = [i for i, _ in enumerate(x)]\n",
    "\n",
    "plt.barh(x_pos, totals, color='green', xerr=variance)\n",
    "plt.ylabel(\" \")\n",
    "plt.xlabel(\"Total ha\")\n",
    "plt.title(\"Tree Cover in Agriculture in Guatemala\")\n",
    "\n",
    "plt.yticks(x_pos, x)\n",
    "\n",
    "plt.show()"
   ]
  },
  {
   "cell_type": "markdown",
   "id": "d35c99b3",
   "metadata": {},
   "source": [
    "### Total Hectares per Class: Hansen v TOF\n",
    "What does the distribution look like across all land cover classes?"
   ]
  },
  {
   "cell_type": "code",
   "execution_count": null,
   "id": "dc476c71",
   "metadata": {},
   "outputs": [],
   "source": [
    "# All land cover classes \n",
    "fig, ax = plt.subplots(figsize=(12,10))\n",
    "\n",
    "sns.scatterplot(x='tof_total_ha', \n",
    "               y='hansen_total_ha', \n",
    "               data=landcover, \n",
    "               hue='lc_class',\n",
    "               marker='x',\n",
    "               s=30,\n",
    "               palette=colors,\n",
    "               ax=ax)\n",
    "ax.set(xlim=(0, 8000), ylim=(0, 8000))\n",
    "ax.plot(np.arange(0.001, 8000, 1), color='grey', linewidth=.2)\n",
    "ax.set_title('Hectares of Tree Cover per Land Cover Class')\n",
    "ax.set_xlabel('TOF total hectares')\n",
    "ax.set_ylabel('Hansen total hectares')\n",
    "\n",
    "\n",
    "plt.legend(bbox_to_anchor=(1.0, 1), title='ESA Land Cover Class');"
   ]
  },
  {
   "cell_type": "code",
   "execution_count": null,
   "id": "6e9b1efb",
   "metadata": {},
   "outputs": [],
   "source": [
    "cr_above_tof = cr_above.drop(columns=[col for col in cr_above.columns if col.startswith('hans')] + ['esa_id','tof_mean_tc_lc'])\n",
    "cr_above_tof = cr_above_tof.groupby('ipcc_class').sum().T.reset_index()"
   ]
  },
  {
   "cell_type": "code",
   "execution_count": null,
   "id": "67e83aad",
   "metadata": {},
   "outputs": [],
   "source": [
    "cr_above_hans = cr_above.drop(columns=[col for col in cr_above.columns if col.startswith('tof')] + ['esa_id','hans_mean_tc_lc'])\n",
    "cr_above_hans = cr_above_hans.groupby('ipcc_class').sum().T.reset_index()"
   ]
  },
  {
   "cell_type": "code",
   "execution_count": null,
   "id": "d79414f7",
   "metadata": {},
   "outputs": [],
   "source": [
    "mean_per_ipcc = landcover[['tof_mean_tc', \n",
    "                           'hansen_mean_tc', \n",
    "                           'ipcc_class']].groupby('ipcc_class').mean().reset_index()\n",
    "plt.figure(figsize=(8,6))\n",
    "\n",
    "width = 0.4\n",
    "pos1 = np.arange(len(mean_per_ipcc))\n",
    "pos2 = pos1 + width\n",
    "\n",
    "plt.barh(pos1, mean_per_ipcc['tof_mean_tc'], width, color='dodgerblue', edgecolor='white', label='TOF')\n",
    "plt.barh(pos2, mean_per_ipcc['hansen_mean_tc'], width, color='darkred', edgecolor='white', label='Hansen')\n",
    " \n",
    "plt.xlabel('% Tree Cover')\n",
    "plt.yticks(pos1 + width / 2, mean_per_ipcc['ipcc_class'].values)\n",
    "\n",
    "plt.legend()\n",
    "plt.title('Mean Percent Tree Cover per IPCC Land Cover Classes')\n",
    "plt.grid(axis='x', linestyle='-', linewidth=.3);\n"
   ]
  },
  {
   "cell_type": "code",
   "execution_count": null,
   "id": "aacaaca3",
   "metadata": {},
   "outputs": [],
   "source": [
    "# El Salvador: total ha >10% cover per IPCC class\n",
    "\n",
    "forest = es_above[es_above.ipcc_class == 'Forest']\n",
    "agriculture = es_above[es_above.ipcc_class == 'Agriculture']\n",
    "settlement = es_above[es_above.ipcc_class == 'Settlement']\n",
    "grassland = es_above[es_above.ipcc_class == 'Grassland']\n",
    "wetland = es_above[es_above.ipcc_class == 'Wetland']\n",
    "other = es_above[es_above.ipcc_class == 'Other']\n",
    "\n",
    "plt.figure(figsize=(14,14))\n",
    "\n",
    "ax1 = plt.subplot(3,2,1)\n",
    "sns.scatterplot(x='tof_10+', \n",
    "               y='hans_10+', \n",
    "               data=forest, \n",
    "               hue='esa_class',\n",
    "               marker='x',\n",
    "               s=30,\n",
    "               #palette=colors[:5],\n",
    "               ax=ax1,\n",
    "               legend=False)\n",
    "ax1.set(xlim=(0, 20000), ylim=(0, 20000))\n",
    "ax1.plot(np.arange(0.001, 20000, 1), color='grey', linewidth=.2)\n",
    "ax1.set_title('Total ha with >10% cover IPCC Forest Class')\n",
    "ax1.set_xlabel('TOF total ha')\n",
    "ax1.set_ylabel('Hansen total ha')\n",
    "\n",
    "ax2 = plt.subplot(3,2,2)\n",
    "sns.scatterplot(x='tof_10+', \n",
    "               y='hans_10+', \n",
    "               data=agriculture, \n",
    "               hue='esa_class',\n",
    "               marker='x',\n",
    "               s=30,\n",
    "               #palette=colors[4:8],\n",
    "               ax=ax2,\n",
    "               legend=False)\n",
    "ax2.set(xlim=(0, 12000), ylim=(0, 12000))\n",
    "ax2.plot(np.arange(0.001, 12000, 1), color='grey', linewidth=.2)\n",
    "ax2.set_title('Total ha with >10% cover IPCC Agriculture Class')\n",
    "ax2.set_xlabel('TOF total ha')\n",
    "ax2.set_ylabel('Hansen total ha')\n",
    "\n",
    "\n",
    "ax3 = plt.subplot(3,2,3)\n",
    "sns.scatterplot(x='tof_10+', \n",
    "               y='hans_10+', \n",
    "               data=settlement, \n",
    "               hue='esa_class',\n",
    "               marker='x',\n",
    "               s=30,\n",
    "               #palette=colors[8:9],\n",
    "               ax=ax3,\n",
    "               legend=False)\n",
    "ax3.set(xlim=(0, 4000), ylim=(0, 4000))\n",
    "ax3.plot(np.arange(0.001, 4000, 1), color='grey', linewidth=.2)\n",
    "ax3.set_title('Total ha with >10% cover IPCC Settlement Class')\n",
    "ax3.set_xlabel('TOF total ha')\n",
    "ax3.set_ylabel('Hansen total ha')\n",
    "\n",
    "ax4 = plt.subplot(3,2,4)\n",
    "sns.scatterplot(x='tof_10+', \n",
    "               y='hans_10+', \n",
    "               data=grassland, \n",
    "               hue='esa_class',\n",
    "               marker='x',\n",
    "               s=30,\n",
    "               #palette=colors[9:11],\n",
    "               ax=ax4,\n",
    "               legend=False)\n",
    "ax4.set(xlim=(0, 300), ylim=(0, 300))\n",
    "ax4.plot(np.arange(0.001, 1000, 1), color='grey', linewidth=.2)\n",
    "ax4.set_title('Total ha with >10% cover IPCC Grassland Class')\n",
    "ax4.set_xlabel('TOF total ha')\n",
    "ax4.set_ylabel('Hansen total ha')\n",
    "\n",
    "ax5 = plt.subplot(3,2,5)\n",
    "sns.scatterplot(x='tof_10+', \n",
    "               y='hans_10+', \n",
    "               data=wetland, \n",
    "               hue='esa_class',\n",
    "               marker='x',\n",
    "               s=30,\n",
    "               #palette=colors[11:12],\n",
    "               ax=ax5,\n",
    "               legend=False)\n",
    "ax5.set(xlim=(0, 100), ylim=(0, 100))\n",
    "ax5.plot(np.arange(0.001, 100, 1), color='grey', linewidth=.2)\n",
    "ax5.set_title('Total ha with >10% cover IPCC Wetland Class')\n",
    "ax5.set_xlabel('TOF total ha')\n",
    "ax5.set_ylabel('Hansen total ha')\n",
    "\n",
    "ax6 = plt.subplot(3,2,6)\n",
    "sns.scatterplot(x='tof_10+', \n",
    "               y='hans_10+', \n",
    "               data=other, \n",
    "               hue='esa_class',\n",
    "               marker='x',\n",
    "               s=30,\n",
    "               #palette=colors[12:],\n",
    "               ax=ax6,\n",
    "               legend=False)\n",
    "ax6.set(xlim=(0, 6000), ylim=(0, 6000))\n",
    "ax6.plot(np.arange(0.001, 6000, 1), color='grey', linewidth=.2)\n",
    "ax6.set_title('Total ha for IPCC Other Class')\n",
    "ax6.set_xlabel('TOF total ha')\n",
    "ax6.set_ylabel('Hansen total ha')\n",
    "\n",
    "# handles, labels = ax1.get_legend_handles_labels()\n",
    "# fig.legend(handles, labels, loc='upper center')\n",
    "plt.tight_layout();\n"
   ]
  },
  {
   "cell_type": "code",
   "execution_count": null,
   "id": "14bdfd27",
   "metadata": {},
   "outputs": [],
   "source": [
    "plt.figure(figsize=(16,10))\n",
    "opico_esa = rs.open('El Salvador/clipped_rasters/esa/Opico.tif').read(1)\n",
    "opico = landcover[landcover.jurisdiction == 'Opico']\n",
    "\n",
    "\n",
    "plt.figure(figsize=(13,5))\n",
    "\n",
    "width = 0.4\n",
    "pos1 = np.arange(len(ha_per_ipcc))\n",
    "pos2 = pos1 + width\n",
    "\n",
    "plt.barh(pos1, ha_per_ipcc['tof_total_ha'], width, color='dodgerblue', edgecolor='white', label='TOF')\n",
    "plt.barh(pos2, ha_per_ipcc['hansen_total_ha'], width, color='darkred', edgecolor='white', label='Hansen')\n",
    " \n",
    "plt.xlabel('Tree Cover (ha)')\n",
    "plt.yticks(pos1 + width / 2, ha_per_ipcc['ipcc_class'].values)\n",
    "\n",
    "plt.legend()\n",
    "plt.title('Total Hectares Tree Cover per IPCC Land Cover Classes')\n",
    "plt.grid(axis='x', linestyle='-', linewidth=.3);\n"
   ]
  },
  {
   "cell_type": "code",
   "execution_count": null,
   "id": "5dd278d3",
   "metadata": {},
   "outputs": [],
   "source": [
    "ha_per_lc = landcover[['tof_total_ha', \n",
    "                       'hansen_total_ha', \n",
    "                       'lc_class']].groupby('lc_class').sum().sort_values('tof_total_ha').reset_index()\n",
    "\n",
    "mean_per_lc = landcover[['tof_mean_tc', \n",
    "                       'hansen_mean_tc', \n",
    "                       'lc_class']].groupby('lc_class').mean().sort_values('tof_mean_tc').reset_index()"
   ]
  },
  {
   "cell_type": "code",
   "execution_count": null,
   "id": "ef607b86",
   "metadata": {},
   "outputs": [],
   "source": [
    "plt.figure(figsize=(10,8))\n",
    "\n",
    "width = 0.4\n",
    "pos1 = np.arange(len(mean_per_lc))\n",
    "pos2 = pos1 + width\n",
    "\n",
    "plt.barh(pos1, mean_per_lc['tof_mean_tc'], width, color='dodgerblue', edgecolor='white', label='TOF')\n",
    "plt.barh(pos2, mean_per_lc['hansen_mean_tc'], width, color='darkred', edgecolor='white', label='Hansen')\n",
    " \n",
    "plt.xlabel('% Tree Cover')\n",
    "plt.yticks(pos1 + width / 2, mean_per_lc['lc_class'].values)\n",
    "\n",
    "plt.legend()\n",
    "plt.title('Mean Percent Tree Cover per Land Cover Class')\n",
    "plt.grid(axis='x', linestyle='-', linewidth=.3);"
   ]
  },
  {
   "cell_type": "code",
   "execution_count": null,
   "id": "22431e6a",
   "metadata": {},
   "outputs": [],
   "source": [
    "plt.figure(figsize=(10,8))\n",
    "\n",
    "width = 0.4\n",
    " \n",
    "# Set position of bar on X axis\n",
    "pos1 = np.arange(len(ha_per_lc))\n",
    "pos2 = pos1 + width\n",
    "\n",
    "plt.barh(pos1, ha_per_lc['tof_total_ha'], width, color='dodgerblue', edgecolor='white', label='TOF')\n",
    "plt.barh(pos2, ha_per_lc['hansen_total_ha'], width, color='darkred', edgecolor='white', label='Hansen')\n",
    " \n",
    "# Add xticks on the middle of the group bars\n",
    "plt.xlabel('Tree Cover (ha)')\n",
    "plt.yticks(pos1 + width / 2, ha_per_lc['lc_class'].values)\n",
    " \n",
    "# Create legend & Show graphic\n",
    "plt.legend()\n",
    "plt.title('Total Hectares of Tree Cover per Land Cover Class')\n",
    "plt.grid(axis='x', linestyle='-', linewidth=.3);"
   ]
  },
  {
   "cell_type": "code",
   "execution_count": null,
   "id": "150a8e74",
   "metadata": {},
   "outputs": [],
   "source": [
    "# zoom in on land categories with smaller count\n",
    "\n",
    "plt.figure(figsize=(10,8))\n",
    "\n",
    "width = 0.4\n",
    " \n",
    "# Set position of bar on X axis\n",
    "pos1 = np.arange(0,7)\n",
    "pos2 = pos1 + width\n",
    "\n",
    "plt.barh(pos1, ha_per_lc['tof_total_ha'][:7], width, color='dodgerblue', edgecolor='white', label='TOF')\n",
    "plt.barh(pos2, ha_per_lc['hansen_total_ha'][:7], width, color='darkred', edgecolor='white', label='Hansen')\n",
    " \n",
    "# Add xticks on the middle of the group bars\n",
    "plt.xlabel('Tree Cover (ha)')\n",
    "plt.yticks(pos1 + width / 2, ha_per_lc['lc_class'].values[:7])\n",
    " \n",
    "# Create legend & Show graphic\n",
    "plt.legend()\n",
    "plt.title('Total Hectares of Tree Cover per Land Cover Class (<700ha)')\n",
    "plt.grid(axis='x', linestyle='-', linewidth=.2);"
   ]
  },
  {
   "cell_type": "markdown",
   "id": "15ac68ff",
   "metadata": {},
   "source": [
    "### Urban Areas: El Salvador and Guatemala\n",
    "What does tree cover look like in the urban land cover class?  \n",
    "Which cities have the most urban tree cover?"
   ]
  },
  {
   "cell_type": "code",
   "execution_count": null,
   "id": "426743a2",
   "metadata": {},
   "outputs": [],
   "source": [
    "def top_5_cities(data, figsize, barwidth): # data is above or between dataframe\n",
    "    \n",
    "    # filter the dataframe to top 5 cities with highest tof avg\n",
    "    settlement = data[data.ipcc_class == 'Settlement'].sort_values('tof_mean_tc_lc', ascending=False)[:5]\n",
    "    \n",
    "    labels = settlement.admin\n",
    "    x = np.arange(len(labels))  \n",
    "    width = barwidth  \n",
    "    \n",
    "    plt.figure(figsize=figsize)\n",
    "    plt.bar(x - width/2, settlement.tof_mean_tc_lc, width, label='TOF', color='navy', edgecolor='white')\n",
    "    plt.bar(x + width/2, settlement.hans_mean_tc_lc, width, label='Hansen', color='darkred', edgecolor='white')\n",
    "\n",
    "    plt.title('Top 5 Cities with Highest Avg % Tree Cover (TOF)')\n",
    "    plt.ylabel('% Tree Cover')    \n",
    "    plt.xticks(x, labels=labels, rotation=60)\n",
    "    plt.grid(axis='y', linestyle='-', linewidth=.2)\n",
    "    plt.legend()\n",
    "    plt.tight_layout()\n",
    "    \n",
    "    return None"
   ]
  },
  {
   "cell_type": "code",
   "execution_count": null,
   "id": "8723f696",
   "metadata": {},
   "outputs": [],
   "source": [
    "top_5_cities(es_above, (9,7), 0.35)"
   ]
  },
  {
   "cell_type": "code",
   "execution_count": null,
   "id": "8cd2a07e",
   "metadata": {},
   "outputs": [],
   "source": [
    "# filter the dataframe to top 5 cities with highest tof avg\n",
    "ag = gua_above[gua_above.ipcc_class == 'Agriculture'].sort_values('tof_mean_tc_lc', ascending=False)[:10]\n",
    "\n",
    "labels = ag.admin\n",
    "x = np.arange(len(labels))  \n",
    "width = .35  \n",
    "\n",
    "plt.figure(figsize=(9,7))\n",
    "plt.bar(x - width/2, ag.tof_mean_tc_lc, width, label='TOF', color='navy', edgecolor='white')\n",
    "plt.bar(x + width/2, ag.hans_mean_tc_lc, width, label='Hansen', color='darkred', edgecolor='white')\n",
    "\n",
    "plt.title('Trees in Ag Areas in Guatemala')\n",
    "plt.ylabel('% Tree Cover')    \n",
    "plt.xticks(x, labels=labels, rotation=60)\n",
    "plt.grid(axis='y', linestyle='-', linewidth=.2)\n",
    "plt.legend()\n",
    "plt.tight_layout()"
   ]
  },
  {
   "cell_type": "markdown",
   "id": "524104d6",
   "metadata": {},
   "source": [
    "# Comparison with GFW Pipeline"
   ]
  },
  {
   "cell_type": "markdown",
   "id": "3ae49a54",
   "metadata": {},
   "source": [
    "## Compare boundaries\n",
    "Get shapefile from geostore through RW API and run through the pipeline, compare to downloaded zip from GADM. Since geostore only returns a single admin, compare the results for a single admin across three different countries (DRC, El Salvador, South Sudan)."
   ]
  },
  {
   "cell_type": "code",
   "execution_count": null,
   "id": "bfa5dd6f",
   "metadata": {},
   "outputs": [],
   "source": [
    "config = confuse.Configuration('sentinel-tree-cover')\n",
    "config.set_file('/Users/jessica.ertel/sentinel-tree-cover/jessica-config.yaml')\n",
    "api_token = config['rw']['token']"
   ]
  },
  {
   "cell_type": "code",
   "execution_count": null,
   "id": "9fed040d",
   "metadata": {},
   "outputs": [],
   "source": [
    "def get_gjson(country):\n",
    "    \n",
    "    '''\n",
    "    Takes in a country to request admin 1 shapefile from geostore.\n",
    "    Saves the geostore object (single admin shapefile) as a geojson.\n",
    "    '''\n",
    "    \n",
    "    # use pycountry to get country ISO\n",
    "    iso = pycountry.countries.get(name = country).alpha_3\n",
    "\n",
    "    # if errors, try pycountry.countries.search_fuzzy('country')\n",
    "    \n",
    "    # Get geostore object by ISO endpoint and GADM admin boundary 1\n",
    "    rw_url = (f'https://api.resourcewatch.org/v2/geostore/admin/{iso}/1')\n",
    "    my_headers = {'Authorization': 'Bearer ' + str(api_token)}\n",
    "    response = requests.get(url=rw_url, headers=my_headers)\n",
    "    print(response)\n",
    "    \n",
    "    # save response as geojson\n",
    "    data = response.json()\n",
    "    geojson = data['data']['attributes'] \n",
    "    geojson['geojson']['crs'] = 'epsg:4326'\n",
    "    \n",
    "    # check which admin was returned\n",
    "    print(geojson['info']['name'])\n",
    "    \n",
    "    with open(f'{country}_adminboundaries.geojson', 'w') as f:\n",
    "        dump(geojson, f)\n",
    "    \n",
    "    return None"
   ]
  },
  {
   "cell_type": "code",
   "execution_count": null,
   "id": "897b0f80",
   "metadata": {},
   "outputs": [],
   "source": [
    "# admin is Central Equatoria\n",
    "get_gjson('South Sudan')"
   ]
  },
  {
   "cell_type": "code",
   "execution_count": null,
   "id": "6dd6e816",
   "metadata": {},
   "outputs": [],
   "source": [
    "# admin is Bas-Uélé\n",
    "get_gjson('Congo, The Democratic Republic of the')"
   ]
  },
  {
   "cell_type": "code",
   "execution_count": null,
   "id": "7765fce4",
   "metadata": {},
   "outputs": [],
   "source": [
    "# admin is Ahuachapán\n",
    "get_gjson('El Salvador')"
   ]
  },
  {
   "cell_type": "code",
   "execution_count": null,
   "id": "78288724",
   "metadata": {},
   "outputs": [],
   "source": [
    "# add NAME_1 column so geojsons are compatible with tml analysis pipeline reqs\n",
    "geostore_salvador = gpd.read_file('Ahuachapán_adminboundaries.geojson')\n",
    "geostore_salvador['NAME_1'] = 'Ahuachapán'\n",
    "geostore_salvador.to_file(f'Ahuachapán_adminboundaries.geojson', driver='GeoJSON')\n",
    "check = gpd.read_file('Ahuachapán_adminboundaries.geojson')\n",
    "check.head()"
   ]
  },
  {
   "cell_type": "code",
   "execution_count": null,
   "id": "6547358d",
   "metadata": {},
   "outputs": [],
   "source": [
    "geostore_drc = gpd.read_file('Bas-Uélé_adminboundaries.geojson')\n",
    "geostore_drc['NAME_1'] = 'Bas-Uélé'\n",
    "geostore_drc.to_file(f'Bas-Uélé_adminboundaries.geojson', driver='GeoJSON')\n",
    "check = gpd.read_file('Bas-Uélé_adminboundaries.geojson')\n",
    "check.head()"
   ]
  },
  {
   "cell_type": "code",
   "execution_count": null,
   "id": "7c7f9396",
   "metadata": {},
   "outputs": [],
   "source": [
    "geostore_ssudan = gpd.read_file('Central Equatoria_adminboundaries.geojson')\n",
    "geostore_ssudan['NAME_1'] = 'Central Equatoria'\n",
    "geostore_ssudan.to_file(f'Central Equatoria_adminboundaries.geojson', driver='GeoJSON')\n",
    "check = gpd.read_file('Central Equatoria_adminboundaries.geojson')\n",
    "check.head()"
   ]
  },
  {
   "cell_type": "code",
   "execution_count": null,
   "id": "b92ab727",
   "metadata": {},
   "outputs": [],
   "source": [
    "def gadm_vs_geostore(country, admin):\n",
    "    \n",
    "    '''\n",
    "    Takes in a country and admin in order to import and filter the statistics\n",
    "    to enable side by side comparison of differences.\n",
    "    \n",
    "    '''\n",
    "\n",
    "    # for gadm, import country stats and filter df to admin\n",
    "    gadm = pd.read_csv(f'statistics/{country}_statistics_full.csv')\n",
    "    gadm = gadm[gadm.admin == admin]\n",
    "    gadm = gadm[['esa_id', 'esa_class', 'tof_mean']]\n",
    "    gadm = gadm.drop_duplicates(keep='first', ignore_index=True).rename(columns={'tof_mean': 'tof_mean_gadm'}) \n",
    "\n",
    "    # for geostore, import admin stats\n",
    "    geostore = pd.read_csv(f'statistics/{admin}_statistics_full_tmlonly.csv')\n",
    "    geostore = geostore[['esa_id', 'esa_class','tof_mean']]\n",
    "    geostore = geostore.drop_duplicates(keep='first', ignore_index=True).rename(columns={'tof_mean': 'tof_mean_geostore'})\n",
    "\n",
    "    # compare tof mean for geostore and gadm\n",
    "    comb = gadm.join(geostore.tof_mean_geostore)\n",
    "    comb['diff'] = round(comb.tof_mean_gadm - comb.tof_mean_geostore, 3)\n",
    "        \n",
    "    return comb\n"
   ]
  },
  {
   "cell_type": "code",
   "execution_count": null,
   "id": "e54a0dda",
   "metadata": {},
   "outputs": [],
   "source": [
    "gadm_vs_geostore('El Salvador', 'Ahuachapán')"
   ]
  },
  {
   "cell_type": "code",
   "execution_count": null,
   "id": "8b11743e",
   "metadata": {},
   "outputs": [],
   "source": [
    "gadm_vs_geostore('South Sudan', 'Central Equatoria')"
   ]
  },
  {
   "cell_type": "code",
   "execution_count": null,
   "id": "146adb2a",
   "metadata": {},
   "outputs": [],
   "source": [
    "# required different approach due to issue with accents on admin name\n",
    "# for gadm, import country stats and filter df to admin\n",
    "gadm = pd.read_csv(f'statistics/DRC_statistics_full_tmlonly.csv')\n",
    "gadm = gadm[gadm.admin == 'Bas-Uele']\n",
    "gadm = gadm[['esa_id', 'esa_class', 'tof_mean']]\n",
    "gadm = gadm.drop_duplicates(keep='first', ignore_index=True).rename(columns={'tof_mean': 'tof_mean_gadm'}) \n",
    "\n",
    "# for geostore, import admin stats\n",
    "geostore = pd.read_csv('statistics/Bas-Uélé_statistics_full_tmlonly.csv')\n",
    "geostore = geostore[['esa_id', 'esa_class','tof_mean']]\n",
    "geostore = geostore.drop_duplicates(keep='first', ignore_index=True).rename(columns={'tof_mean': 'tof_mean_geostore'})\n",
    "\n",
    "# compare tof mean for geostore and gadm\n",
    "comb = gadm.join(geostore.tof_mean_geostore)\n",
    "comb['diff'] = round(comb.tof_mean_gadm - comb.tof_mean_geostore, 3)\n",
    "comb"
   ]
  },
  {
   "cell_type": "markdown",
   "id": "a4b9c8c3",
   "metadata": {},
   "source": [
    "## Compare tree cover by land cover class\n",
    "GFW and TML use the 2015 ESA land cover product for land cover classifications, however GFW aggregates to IPCCC land cover types. To compare, look at the total hectares of tree cover in agricultural areas for a country.\n",
    "\n",
    "geostore IDs: \n",
    "- south sudan: 566e8323abaf1b7080b179bec5946ce6\n",
    "- DRC: 2852c7accd29c848ed699cdff6bd275e\n",
    "- el salvador: 8ea11cb2347e2e93ebc7e0ede15598ba\n"
   ]
  },
  {
   "cell_type": "code",
   "execution_count": null,
   "id": "219ddefa",
   "metadata": {},
   "outputs": [],
   "source": [
    "config = confuse.Configuration('sentinel-tree-cover')\n",
    "config.set_file('/Users/jessica.ertel/sentinel-tree-cover/jessica-config.yaml')\n",
    "api_token = config['rw']['token']"
   ]
  },
  {
   "cell_type": "code",
   "execution_count": null,
   "id": "d2cfbeef",
   "metadata": {},
   "outputs": [],
   "source": [
    "\n",
    "drc_id = '2852c7accd29c848ed699cdff6bd275e'\n",
    "es_id = \"8ea11cb2347e2e93ebc7e0ede15598ba\"\n",
    "ssudan_id = \"566e8323abaf1b7080b179bec5946ce6\"\n",
    "\n",
    "country_id = drc_id\n",
    "url = f'https://data-api.globalforestwatch.org/dataset/wri_trees_in_mosaic_landscapes/v20220218/query/json?geostore_id={country_id}&geostore_origin=rw&sql=SELECT+sum%28area__ha%29+FROM+data+GROUP+BY+esa_land_cover_2015__class%2C+wri_trees_in_mosaic_landscapes__decile'\n",
    "my_headers = {'Authorization': str(api_token)}\n",
    "response = requests.get(url=url, headers=my_headers)\n",
    "print(response)\n",
    "\n",
    "# store as json, but remove ('status', 'success')\n",
    "data = response.json()\n",
    "data.popitem() \n",
    "\n",
    "# make into dataframe with updated columns\n",
    "gfw = pd.DataFrame(data['data'])\n",
    "gfw.rename(columns={\"esa_land_cover_2015__class\": \"esa_class\", \n",
    "                   \"wri_trees_in_mosaic_landscapes__decile\": \"tree_cover_class\"},\n",
    "          inplace=True)"
   ]
  },
  {
   "cell_type": "code",
   "execution_count": null,
   "id": "89c3798b",
   "metadata": {},
   "outputs": [],
   "source": [
    "#Estimated: 226,175,961  \n",
    "#Actual: 219,481,200 \n"
   ]
  },
  {
   "cell_type": "code",
   "execution_count": null,
   "id": "058fa85d",
   "metadata": {},
   "outputs": [],
   "source": [
    "sum(gfw.area__ha)"
   ]
  },
  {
   "cell_type": "code",
   "execution_count": null,
   "id": "7f92c58b",
   "metadata": {},
   "outputs": [],
   "source": [
    "# this is the total ha trees in ag areas for DRC\n",
    "gfw_ag = gfw[gfw.esa_class == 'Agriculture']\n",
    "gfw_ag"
   ]
  },
  {
   "cell_type": "code",
   "execution_count": null,
   "id": "9dabfcf6",
   "metadata": {},
   "outputs": [],
   "source": [
    "tml = pd.read_csv('statistics/DRC_statistics_full_tmlonly.csv')\n",
    "tml_ag = tml[tml.esa_id.isin([10, 11, 12, 20, 30, 40])]\n",
    "tml_ag = tml_ag[['tree_cover_class', 'tof_ha']]\n",
    "tml_ag = tml_ag.groupby(by=['tree_cover_class']).sum().reset_index()\n",
    "tml_ag"
   ]
  },
  {
   "cell_type": "code",
   "execution_count": null,
   "id": "c2282cdd",
   "metadata": {},
   "outputs": [],
   "source": [
    "def esa_to_ipcc(df):\n",
    "    \n",
    "    '''\n",
    "    Aggregates ESA land cover classes to IPCC land cover classes.\n",
    "    Returns a dataframe with tree cover statistics for each IPCC class.\n",
    "    \n",
    "    '''\n",
    "    agriculture = df[df.esa_id.isin([10, 11, 12, 20, 20, 30, 40])]\n",
    "    forest = df[df.esa_id.isin([50, 60, 61, 62, 70, 71, 72, 80, 81, 82, 90, 100, 160, 170])]\n",
    "    grassland = df[df.esa_id.isin([110, 130])]\n",
    "    wetland = df[df.esa_id == 180]\n",
    "    settlement = df[df.esa_id == 190]\n",
    "    shrubland = df[df.esa_id.isin([120, 121, 122])]\n",
    "    sparse_veg = df[df.esa_id.isin([140, 150, 151, 152, 153])]\n",
    "    bare = df[df.esa_id.isin([200, 201, 202])]\n",
    "    water = df[df.esa_id == 210]\n",
    "\n",
    "    return agriculture, forest, grassland, wetland, settlement, shrubland, sparse_veg, bare, water"
   ]
  },
  {
   "cell_type": "code",
   "execution_count": null,
   "id": "0ffa6304",
   "metadata": {},
   "outputs": [],
   "source": [
    "agriculture, forest, grassland, wetland, settlement, shrubland, sparse_veg, bare, water = esa_to_ipcc(drc)\n"
   ]
  },
  {
   "cell_type": "code",
   "execution_count": null,
   "id": "d80cc6bc",
   "metadata": {},
   "outputs": [],
   "source": [
    "# get the mean tree cover per land cover class"
   ]
  },
  {
   "cell_type": "code",
   "execution_count": null,
   "id": "be862595",
   "metadata": {},
   "outputs": [],
   "source": [
    "# get total ha per threshold per country\n",
    "df = df.groupby(by=['country', 'tree_cover_class']).sum().reset_index()\n",
    "df = df[['country', 'tree_cover_class', 'tof_ha']] "
   ]
  },
  {
   "cell_type": "code",
   "execution_count": null,
   "id": "bbe183db",
   "metadata": {},
   "outputs": [],
   "source": [
    "agriculture = drc[drc.esa_id.isin([10, 11, 12, 20, 20, 30, 40])]\n",
    "agriculture[['admin', 'esa_id', 'esa_class', 'tree_cover_class']]"
   ]
  },
  {
   "cell_type": "code",
   "execution_count": null,
   "id": "a2c860da",
   "metadata": {},
   "outputs": [],
   "source": [
    "# in the 0-20 class total ha is \n",
    "# get total ha for TML agriculture\n",
    "tml_agriculture = agriculture[['country', 'tree_cover_class', 'tof_ha']]\n",
    "tml_agriculture.groupby('tree_cover_class').sum().reset_index()"
   ]
  },
  {
   "cell_type": "code",
   "execution_count": null,
   "id": "9910a315",
   "metadata": {},
   "outputs": [],
   "source": [
    "gfw_agriculture = gfw[gfw.esa_class == 'Agriculture']\n",
    "gfw_agriculture"
   ]
  },
  {
   "cell_type": "code",
   "execution_count": null,
   "id": "0d4adbd5",
   "metadata": {},
   "outputs": [],
   "source": [
    "# get total ha for TML agriculture\n",
    "tml_urban = settlement[['country', 'tree_cover_class', 'tof_ha']]\n",
    "tml_urban.groupby('tree_cover_class').sum().reset_index()"
   ]
  },
  {
   "cell_type": "code",
   "execution_count": null,
   "id": "5a1180cf",
   "metadata": {},
   "outputs": [],
   "source": [
    "gfw_urban = gfw[gfw.esa_class == 'Settlement']\n",
    "gfw_urban"
   ]
  },
  {
   "cell_type": "markdown",
   "id": "5fabe442",
   "metadata": {},
   "source": [
    "## Compare resampling effects\n",
    "\n",
    "**Processing Extents**   \n",
    "DRC  \n",
    "- Calculated from original TML tif: 229,218,208.13 ha\n",
    "- Estimated area sampled (from TML pipeline): 226,175,961 ha  \n",
    "- Extent Spreadsheet: 219,481,200 ha (difference from above -6,694,761 ha)\n",
    "- GFW: 217,834,921.067 ha\n",
    "- Wiki: 226,704,800 ha\n",
    "\n",
    "El Salvador \n",
    "- Calculated from original TML tif: 2,101,131.25 ha\n",
    "- Estimated area sampled (from TML pipeline): 1,957,471\n",
    "- Extent Spreadsheet: 2,066,400 (difference from above 108,929 ha)\n",
    "- GFW: 1,532,594.297 ha\n",
    "- Wiki: 2,072,100 ha\n",
    " \n",
    " \n",
    "South Sudan \n",
    "- Calculated from original TML tif: 62,429,864.11 ha\n",
    "- Estimated area sampled (from TML pipeline): 60,928,916\n",
    "- Extent Spreadsheet: 59,709,600 (difference from above -1,219,316 ha)\n",
    "- GFW: 57,831,316.129 ha\n",
    "- Wiki: 64,432,900 ha\n",
    "\n",
    "https://en.wikipedia.org/wiki/List_of_countries_and_dependencies_by_area"
   ]
  },
  {
   "cell_type": "markdown",
   "id": "f1e2afa7",
   "metadata": {},
   "source": [
    "### Option 1\n",
    "Compare total area_ha from GFW stats to total pixels in TML country raster"
   ]
  },
  {
   "cell_type": "code",
   "execution_count": null,
   "id": "898f9339",
   "metadata": {},
   "outputs": [],
   "source": [
    "# get drc stats and save as df\n",
    "drc_id = '2852c7accd29c848ed699cdff6bd275e'\n",
    "es_id = \"8ea11cb2347e2e93ebc7e0ede15598ba\"\n",
    "ssudan_id = \"566e8323abaf1b7080b179bec5946ce6\"\n",
    "\n",
    "country_id = es_id\n",
    "url = f'https://data-api.globalforestwatch.org/dataset/wri_trees_in_mosaic_landscapes/v20220218/query/json?geostore_id={country_id}&geostore_origin=rw&sql=SELECT+sum%28area__ha%29+FROM+data+GROUP+BY+esa_land_cover_2015__class%2C+wri_trees_in_mosaic_landscapes__decile'\n",
    "my_headers = {'Authorization': str(api_token)}\n",
    "response = requests.get(url=url, headers=my_headers)\n",
    "print(response)\n",
    "\n",
    "# store as json, but remove ('status', 'success')\n",
    "data = response.json()\n",
    "data.popitem() \n",
    "\n",
    "# make into dataframe with updated columns\n",
    "gfw = pd.DataFrame(data['data'])\n",
    "gfw.rename(columns={\"esa_land_cover_2015__class\": \"esa_class\", \n",
    "                   \"wri_trees_in_mosaic_landscapes__decile\": \"tree_cover_class\"},\n",
    "          inplace=True)"
   ]
  },
  {
   "cell_type": "code",
   "execution_count": null,
   "id": "e576005c",
   "metadata": {},
   "outputs": [],
   "source": [
    "# get the sum of gfw pixels for El Salvador\n",
    "# note this is not filtering out no data values\n",
    "es_gfw_count = round(sum(gfw.area__ha),3)\n",
    "es_gfw_count"
   ]
  },
  {
   "cell_type": "code",
   "execution_count": null,
   "id": "5ed60017",
   "metadata": {},
   "outputs": [],
   "source": [
    "# get the sum of gfw pixels for South Sudan\n",
    "# note this is not filtering out no data values\n",
    "ssudan_gfw_count = round(sum(gfw.area__ha),3)\n",
    "ssudan_gfw_count"
   ]
  },
  {
   "cell_type": "code",
   "execution_count": null,
   "id": "f70dacd9",
   "metadata": {},
   "outputs": [],
   "source": [
    "ssudan = rs.open(f'South Sudan.tif').read(1)\n",
    "ssudan_tml_count = np.sum(ssudan != 255)\n",
    "ssudan_tml_count / 100"
   ]
  },
  {
   "cell_type": "code",
   "execution_count": null,
   "id": "100fb8f3",
   "metadata": {},
   "outputs": [],
   "source": [
    "es = rs.open(f'El Salvador.tif').read(1)\n",
    "es_tml_count = np.sum(es != 255)\n",
    "es_tml_count / 100"
   ]
  },
  {
   "cell_type": "code",
   "execution_count": null,
   "id": "c82b4ae5",
   "metadata": {},
   "outputs": [],
   "source": [
    "drc_tml_count / 100"
   ]
  },
  {
   "cell_type": "markdown",
   "id": "fc147c67",
   "metadata": {},
   "source": [
    "### Option 2"
   ]
  },
  {
   "cell_type": "code",
   "execution_count": null,
   "id": "5a3d1176",
   "metadata": {},
   "outputs": [],
   "source": [
    "## get GFW data from gfw-data-lake\n",
    "#aws s3 cp s3://gfw-data-lake/esa_land_cover_2015/v2016/raster/epsg-4326/10/100000/class/geotiff/20N_100W.tif jessica.ertel/sentinel-tree-cover/notebooks/analysis/ --request-payer\n",
    "\n",
    "tml1 = rs.open('20N_100W.tif').read(1)\n",
    "tml2 = rs.open('20N_090W.tif').read(1)\n",
    "\n",
    "\n",
    "# mask out no data values for plotting\n",
    "#tml_ma = np.ma.masked_where(tml == 255, tml, copy=True)\n",
    "\n",
    "plt.figure(figsize=(20,20))\n",
    "fontsize = 18\n",
    "\n",
    "# plot admin with urban land cover overlay\n",
    "plt.subplot(1,3,1)\n",
    "plt.imshow(tml1, cmap='Greens')\n",
    "plt.title(f'20N_100W', fontsize=fontsize)\n",
    "plt.axis('off')\n",
    "\n",
    "plt.subplot(1,3,2)\n",
    "plt.imshow(tml2, cmap='Greens')\n",
    "plt.title(f'20N_090W', fontsize=fontsize)\n",
    "plt.axis('off')\n",
    "    "
   ]
  },
  {
   "cell_type": "code",
   "execution_count": null,
   "id": "73e11b3d",
   "metadata": {},
   "outputs": [],
   "source": [
    "# get TML pixel count for each admin in Belize\n",
    "# to do this, downloaded the 10x10 degree tiles from gfw-data-lake\n",
    "# ran them through the pipeline as if they were Hansen data\n",
    "# skipped resampling and merged multipolys to calculate pixel size\n",
    "\n",
    "admins = [x for x in natsorted(os.listdir(\"Belize/tml_clipped/\")) if \".tif\" in x]\n",
    "\n",
    "for i in admins:\n",
    "    tml = rs.open(f'Belize/tml_clipped/{i}').read(1)\n",
    "    gfw = rs.open(f'Belize/gfw_clipped/{i}').read(1)\n",
    "    tml_count = np.sum(tml != 255)\n",
    "    gfw_count = np.sum(gfw != 255)\n",
    "    print(i[:-4]) \n",
    "    print(f'TML pixel count: {tml_count}, GFW pixel count: {gfw_count}')\n",
    "    print(f'Difference: {tml_count - gfw_count}')\n"
   ]
  },
  {
   "cell_type": "code",
   "execution_count": null,
   "id": "6895f40b",
   "metadata": {},
   "outputs": [],
   "source": [
    "# check the total difference across all admins\n",
    "# this needs to be the same as the \n",
    "tml_total = 0\n",
    "gfw_total = 0\n",
    "\n",
    "for i in admins:\n",
    "    tml = rs.open(f'Belize/tml_clipped/{i}').read(1)\n",
    "    gfw = rs.open(f'Belize/gfw_clipped/{i}').read(1)\n",
    "    tml_count = np.sum(tml != 255)\n",
    "    gfw_count = np.sum(gfw != 255)\n",
    "    tml_total += tml_count\n",
    "    gfw_total += gfw_count\n",
    "     \n",
    "print(f'TML pixel count: {tml_total}, GFW pixel count: {gfw_total}')\n",
    "print(f'Difference: {tml_total - gfw_total}')"
   ]
  },
  {
   "cell_type": "markdown",
   "id": "724f325b",
   "metadata": {},
   "source": [
    "## Old Visuals"
   ]
  },
  {
   "cell_type": "code",
   "execution_count": null,
   "id": "7d02b953",
   "metadata": {},
   "outputs": [],
   "source": [
    "def h_groupedbar(bar_tof, bar_han, figsize, barwidth, labels, title, xlabel):\n",
    "    \n",
    "    '''\n",
    "    Plots a horizontal grouped bar chart comparing Hansen (red) and TOF (blue) \n",
    "    estimates of the total number of hectares of land that fall into different\n",
    "    tree cover thresholds.\n",
    "    '''\n",
    "    \n",
    "    #ylabels = labels\n",
    "    y = np.arange(len(labels))\n",
    "    width = barwidth\n",
    "\n",
    "    plt.figure(figsize=figsize)\n",
    "    plt.barh(y - width/2, bar_tof, width, label='TOF', color='dodgerblue', edgecolor='white')\n",
    "    plt.barh(y + width/2, bar_han, width, label='Hansen', color='orangered', edgecolor='white')\n",
    "\n",
    "    plt.title(title)\n",
    "    plt.xlabel(xlabel)\n",
    "    plt.yticks(y + width / 2, labels=labels)\n",
    "    plt.grid(axis='x', linestyle='-', linewidth=.2)\n",
    "    plt.legend()\n",
    "    plt.tight_layout()\n",
    "    \n",
    "    return None"
   ]
  },
  {
   "cell_type": "markdown",
   "id": "dfc26332",
   "metadata": {},
   "source": [
    "### Average % tree cover per admin\n",
    "The vertical grouped bar charts compare Hansen (red) and TOF (blue) mean tree cover estimates per admin 1 boundary for a given country. This will give us a general comparison, indicate errors if we see zero tree cover, and illustrates the need to mosaic Hansen and TOF data together at some point."
   ]
  },
  {
   "cell_type": "code",
   "execution_count": null,
   "id": "76511551",
   "metadata": {},
   "outputs": [],
   "source": [
    "def v_groupedbar_mean(bar_tof, bar_han, figsize, barwidth, labels, title):\n",
    "    \n",
    "    '''\n",
    "    Plots a vertical grouped bar chart comparing Hansen (red) and TOF (blue) \n",
    "    mean tree cover estimates per admin 1 boundary for a given country. \n",
    "    '''\n",
    "    \n",
    "    #xlabels = labels\n",
    "    x = np.arange(len(labels))  \n",
    "    width = barwidth  \n",
    "\n",
    "    plt.figure(figsize=figsize)\n",
    "    plt.bar(x - width/2, bar_tof, width, label='TOF', color='navy', edgecolor='white')\n",
    "    plt.bar(x + width/2, bar_han, width, label='Hansen', color='darkred', edgecolor='white')\n",
    "\n",
    "    plt.title(title)\n",
    "    plt.ylabel('% Tree Cover')\n",
    "    plt.xlabel('Admin')\n",
    "    plt.xticks(x, labels=labels, rotation=60)\n",
    "    plt.grid(axis='y', linestyle='-', linewidth=.2)\n",
    "    plt.legend()\n",
    "    plt.tight_layout()\n",
    "    \n",
    "    return None"
   ]
  },
  {
   "cell_type": "code",
   "execution_count": null,
   "id": "57c6716f",
   "metadata": {},
   "outputs": [],
   "source": [
    "v_groupedbar_mean(hon.tof_mean_tc, \n",
    "                  hon.hans_mean_tc, \n",
    "                  (9,5), \n",
    "                  0.35, \n",
    "                  list(hon.admin), \n",
    "                  'Avg % Tree Cover for Admin Districts in Honduras')"
   ]
  },
  {
   "cell_type": "code",
   "execution_count": null,
   "id": "bc73898e",
   "metadata": {},
   "outputs": [],
   "source": [
    "v_groupedbar_mean(gua.tof_mean_tc, \n",
    "                  gua.hans_mean_tc, \n",
    "                  (9,5), \n",
    "                  0.35, \n",
    "                  list(gua.admin), \n",
    "                  'Avg % Tree Cover for Admin Districts in Guatemala')"
   ]
  },
  {
   "cell_type": "code",
   "execution_count": null,
   "id": "1b9c52e7",
   "metadata": {},
   "outputs": [],
   "source": [
    "v_groupedbar_mean(pan.tof_mean_tc, \n",
    "                  pan.hans_mean_tc, \n",
    "                  (9,5), \n",
    "                  0.35, \n",
    "                  list(pan.admin), \n",
    "                  'Avg % Tree Cover for Admin Districts in Panama')"
   ]
  },
  {
   "cell_type": "code",
   "execution_count": null,
   "id": "fc1109ea",
   "metadata": {},
   "outputs": [],
   "source": [
    "v_groupedbar_mean(nic.tof_mean_tc, \n",
    "                  nic.hans_mean_tc, \n",
    "                  (9,5), \n",
    "                  0.35, \n",
    "                  list(nic.admin), \n",
    "                  'Avg % Tree Cover for Admin Districts in Nicaragua')"
   ]
  },
  {
   "cell_type": "markdown",
   "id": "d690fc42",
   "metadata": {},
   "source": [
    "### Average and Total Difference per Class\n",
    "What is the average and total difference between TOF and Hansen tree cover estimates?"
   ]
  },
  {
   "cell_type": "code",
   "execution_count": null,
   "id": "9ad3d19b",
   "metadata": {},
   "outputs": [],
   "source": [
    "# Plots the average difference between total hecatares of tof and hansen for each land cover class\n",
    "# the tof_hans column is calculated by tof total ha - hansen total ha\n",
    "\n",
    "diverge_mean = landcover.groupby('lc_class')['tof_hans'].mean().sort_values().reset_index()\n",
    "diverge_sum = landcover.groupby('lc_class')['tof_hans'].sum().sort_values().reset_index()\n",
    "colors = ['red' if x < 0 else 'green' for x in diverge_mean.tof_hans]\n",
    "\n",
    "plt.figure(figsize=(10,6))\n",
    "\n",
    "plt.hlines(y=diverge_mean.lc_class, \n",
    "           xmin=0, \n",
    "           xmax=diverge_mean.tof_hans, \n",
    "           alpha=0.7,\n",
    "           linewidth=5)\n",
    "\n",
    "plt.title('Average difference in hectares of tree cover per land cover class: TOF vs Hansen')\n",
    "plt.xlabel('ha tree cover');"
   ]
  },
  {
   "cell_type": "code",
   "execution_count": null,
   "id": "cdc921e3",
   "metadata": {},
   "outputs": [],
   "source": [
    "plt.figure(figsize=(10,6))\n",
    "\n",
    "plt.hlines(y=diverge_sum.lc_class, \n",
    "           xmin=0, \n",
    "           xmax=diverge_sum.tof_hans, \n",
    "           alpha=0.7,\n",
    "           linewidth=5)\n",
    "\n",
    "plt.title('Total difference in hectares of tree cover per land cover class: TOF vs Hansen')\n",
    "plt.xlabel('ha tree cover');"
   ]
  },
  {
   "cell_type": "markdown",
   "id": "eeb9c733",
   "metadata": {},
   "source": [
    "## Removing Bracketing"
   ]
  },
  {
   "cell_type": "markdown",
   "id": "11f26c52",
   "metadata": {},
   "source": [
    "In comparison with the statistics that use bracketing, removing the brackets results in lower total ha and average tree cover.\n",
    "\n",
    "Bangladesh area  \n",
    "Estimated: 13,521,943  \n",
    "Actual: 8,405,739"
   ]
  },
  {
   "cell_type": "code",
   "execution_count": null,
   "id": "ce78931b",
   "metadata": {},
   "outputs": [],
   "source": [
    "# first compare the difference in statistics between the newly bracketed data and the old bracket\n",
    "# for the 10m resolution tif (v1 and v4)\n",
    "\n",
    "def compare_stats(filename):\n",
    "    \n",
    "    # create ha stats table\n",
    "    df = pd.read_csv(filename)\n",
    "    table = df[['admin', 'esa_class', 'tree_cover_class', 'tof_ha', 'hans_ha']]\n",
    "    table = table.groupby('esa_class').sum().reset_index()\n",
    "    \n",
    "    # print ha totals\n",
    "    stats = df.groupby(by='tree_cover_class').sum().reset_index()\n",
    "    stats = stats[['tree_cover_class', 'tof_ha', 'hans_ha']] \n",
    "\n",
    "    # remove tree cover classes <10%\n",
    "    over10 = stats[stats.tree_cover_class != '0-9']\n",
    "    over20 = stats[(stats.tree_cover_class != '0-9') & (stats.tree_cover_class != '10-19')]\n",
    "    over30 = stats[(stats.tree_cover_class != '0-9') & (stats.tree_cover_class != '10-19') & (stats.tree_cover_class != '20-29')]\n",
    "\n",
    "    # calculate totals\n",
    "    total = sum(stats.tof_ha)\n",
    "    over10_ha = sum(over10.tof_ha)\n",
    "    over10_perc = sum(over10.tof_ha) / total * 100\n",
    "    over20_perc = sum(over20.tof_ha) / total * 100\n",
    "    over30_perc = sum(over30.tof_ha) / total * 100\n",
    "\n",
    "    print(f'ha >10%: {round(over10_perc,2)}')\n",
    "    print(f'ha >20%: {round(over20_perc,2)}')\n",
    "    print(f'ha >30%: {round(over30_perc,2)}')\n",
    "    \n",
    "    return table\n",
    "\n"
   ]
  },
  {
   "cell_type": "code",
   "execution_count": null,
   "id": "164712c7",
   "metadata": {},
   "outputs": [],
   "source": [
    "v1 = pd.read_csv('statistics/Bangladesh_statistics_full.csv')\n",
    "v1_ha = compare_stats('statistics/Bangladesh_statistics_full.csv')\n",
    "v1_ha"
   ]
  },
  {
   "cell_type": "code",
   "execution_count": null,
   "id": "af654811",
   "metadata": {},
   "outputs": [],
   "source": [
    "v4 = pd.read_csv('statistics/Bangladesh_v4_statistics_full.csv')\n",
    "v4_ha = compare_stats('statistics/Bangladesh_v4_statistics_full.csv')\n",
    "v4_ha"
   ]
  },
  {
   "cell_type": "code",
   "execution_count": null,
   "id": "b150ccbd",
   "metadata": {},
   "outputs": [],
   "source": [
    "v1[v1.admin == 'Dhaka']"
   ]
  },
  {
   "cell_type": "code",
   "execution_count": null,
   "id": "6020c2b0",
   "metadata": {},
   "outputs": [],
   "source": [
    "v4[v4.admin == 'Dhaka']"
   ]
  },
  {
   "cell_type": "code",
   "execution_count": null,
   "id": "6c9590f5",
   "metadata": {},
   "outputs": [],
   "source": [
    "v1 = v1[['admin', 'esa_class', 'esa_sampled_ha', 'esa_total_ha']]\n",
    "v1 = v1.drop_duplicates()\n",
    "v1 = v1.groupby('admin').sum().reset_index()\n",
    "v1"
   ]
  },
  {
   "cell_type": "code",
   "execution_count": null,
   "id": "e5dfc40d",
   "metadata": {},
   "outputs": [],
   "source": [
    "v4 = v4[['admin', 'esa_class', 'esa_sampled_ha', 'esa_total_ha']]\n",
    "v4 = v4.drop_duplicates()\n",
    "v4 = v4.groupby('admin').sum().reset_index()\n",
    "v4"
   ]
  },
  {
   "cell_type": "code",
   "execution_count": null,
   "id": "133af057",
   "metadata": {},
   "outputs": [],
   "source": [
    "v1.esa_total_ha - v4.esa_total_ha"
   ]
  },
  {
   "cell_type": "code",
   "execution_count": null,
   "id": "03a13a66",
   "metadata": {},
   "outputs": [],
   "source": [
    " # create v1 avg table\n",
    "df = pd.read_csv('statistics/Bangladesh_statistics_full.csv')\n",
    "table = df[['admin', 'esa_class', 'tof_mean', 'hans_mean']]\n",
    "table = table.drop_duplicates()\n",
    "table = table.groupby('esa_class').mean().reset_index()\n",
    "table"
   ]
  },
  {
   "cell_type": "code",
   "execution_count": null,
   "id": "ec5c9f21",
   "metadata": {},
   "outputs": [],
   "source": [
    " # create v4 avg table\n",
    "df = pd.read_csv('statistics/Bangladesh_v4_statistics_full.csv')\n",
    "table = df[['admin', 'esa_class', 'tof_mean', 'hans_mean']]\n",
    "table = table.drop_duplicates()\n",
    "table = table.groupby('esa_class').mean().reset_index()\n",
    "table"
   ]
  },
  {
   "cell_type": "code",
   "execution_count": null,
   "id": "8355c5b1",
   "metadata": {},
   "outputs": [],
   "source": [
    "v1 = pd.read_csv('statistics/Bangladesh_statistics_full.csv')\n",
    "\n",
    "v5 = pd.read_csv('statistics/Bangladesh_statistics_full_statscheck.csv')\n",
    "\n"
   ]
  },
  {
   "cell_type": "code",
   "execution_count": null,
   "id": "f982ea44",
   "metadata": {},
   "outputs": [],
   "source": [
    "compare_stats('statistics/Bangladesh_statistics_full.csv')"
   ]
  },
  {
   "cell_type": "code",
   "execution_count": null,
   "id": "07db4d22",
   "metadata": {},
   "outputs": [],
   "source": [
    "compare_stats('statistics/Bangladesh_statistics_full_statscheck.csv')"
   ]
  },
  {
   "cell_type": "code",
   "execution_count": null,
   "id": "db040105",
   "metadata": {},
   "outputs": [],
   "source": []
  }
 ],
 "metadata": {
  "kernelspec": {
   "display_name": "tml-analysis",
   "language": "python",
   "name": "tml-analysis"
  },
  "language_info": {
   "codemirror_mode": {
    "name": "ipython",
    "version": 3
   },
   "file_extension": ".py",
   "mimetype": "text/x-python",
   "name": "python",
   "nbconvert_exporter": "python",
   "pygments_lexer": "ipython3",
   "version": "3.8.5"
  },
  "toc": {
   "base_numbering": 1,
   "nav_menu": {},
   "number_sections": true,
   "sideBar": true,
   "skip_h1_title": false,
   "title_cell": "Table of Contents",
   "title_sidebar": "Contents",
   "toc_cell": false,
   "toc_position": {
    "height": "calc(100% - 180px)",
    "left": "10px",
    "top": "150px",
    "width": "215px"
   },
   "toc_section_display": true,
   "toc_window_display": true
  },
  "varInspector": {
   "cols": {
    "lenName": 16,
    "lenType": 16,
    "lenVar": 40
   },
   "kernels_config": {
    "python": {
     "delete_cmd_postfix": "",
     "delete_cmd_prefix": "del ",
     "library": "var_list.py",
     "varRefreshCmd": "print(var_dic_list())"
    },
    "r": {
     "delete_cmd_postfix": ") ",
     "delete_cmd_prefix": "rm(",
     "library": "var_list.r",
     "varRefreshCmd": "cat(var_dic_list()) "
    }
   },
   "types_to_exclude": [
    "module",
    "function",
    "builtin_function_or_method",
    "instance",
    "_Feature"
   ],
   "window_display": false
  }
 },
 "nbformat": 4,
 "nbformat_minor": 5
}
