{
 "cells": [
  {
   "cell_type": "markdown",
   "id": "fe37830b",
   "metadata": {},
   "source": [
    "# QA/QC for Pipeline Statistics"
   ]
  },
  {
   "cell_type": "code",
   "execution_count": null,
   "id": "d91104a7",
   "metadata": {},
   "outputs": [],
   "source": [
    "import numpy as np\n",
    "import pandas as pd\n",
    "import rasterio as rs\n",
    "import rasterio.mask\n",
    "import fiona\n",
    "import geopandas as gpd\n",
    "\n",
    "\n",
    "import sys\n",
    "sys.path.append('scripts/')\n",
    "import statistical_analyses as st\n",
    "\n",
    "%load_ext autoreload\n",
    "%autoreload 2"
   ]
  },
  {
   "cell_type": "code",
   "execution_count": null,
   "id": "0de4e99c",
   "metadata": {},
   "outputs": [],
   "source": [
    "## Run stats check on each country\n",
    "st.check_stats('Vietnam', 'full_tmlonly')"
   ]
  },
  {
   "cell_type": "code",
   "execution_count": null,
   "id": "e04266d6",
   "metadata": {},
   "outputs": [],
   "source": [
    "# confirm this only happens in 0-9% threshold\n",
    "df = pd.read_csv('statistics/Vietnam_statistics_full_tmlonly.csv')\n",
    "df[(df.tof_ha > 0) & (df.tof_mean == 0)]"
   ]
  },
  {
   "cell_type": "code",
   "execution_count": null,
   "id": "c6a55937",
   "metadata": {},
   "outputs": [],
   "source": [
    "# additional check for countries that used admin 2 boundaries\n",
    "admin_sampled = df[['admin', 'esa_id', 'esa_sampled_ha']]\n",
    "admin_sampled = admin_sampled.drop_duplicates()\n",
    "admin_sampled = admin_sampled.groupby('admin').sum()\n",
    "admin_sampled = admin_sampled[['esa_sampled_ha']]\n",
    "\n",
    "# get total ha df\n",
    "admin_tof = df[['admin', 'esa_id', 'tree_cover_class', 'tof_ha']]\n",
    "admin_tof = admin_tof.groupby('admin').sum()\n",
    "admin_tof = admin_tof[['tof_ha']]\n",
    "\n",
    "list(set(admin_sampled.esa_sampled_ha == admin_tof.tof_ha))"
   ]
  },
  {
   "cell_type": "code",
   "execution_count": null,
   "id": "608fa335",
   "metadata": {},
   "outputs": [],
   "source": [
    "# should be 0\n",
    "df[df.tof_mean.isnull()]['esa_sampled_ha'].sum()"
   ]
  },
  {
   "cell_type": "markdown",
   "id": "62679738",
   "metadata": {},
   "source": [
    "## Validate total ha >10%\n",
    "\n",
    "For a selection of countries in each region, manually calculate ha >10% and compare to the output of the TML pipeline. Over or under estimation under 5% is acceptable.\n",
    "- Central America:(all countries included)\n",
    "- South America: Paraguay, Suriname, Acre\n",
    "- Caribbean: Caribbean\n",
    "- West Africa: Ghana, Liberia\n",
    "- East Africa: Madagascar, Somalia\n",
    "- North/Central Africa: Lesotho, Republic of Congo\n",
    "- Asia: Bangladesh, Myanmar, Vietnam"
   ]
  },
  {
   "cell_type": "code",
   "execution_count": null,
   "id": "f499a753",
   "metadata": {},
   "outputs": [],
   "source": [
    "def over10_stats(region):\n",
    "    \n",
    "    pipe = pd.read_csv(f'statistics/{region}_statistics_full_tmlonly.csv')\n",
    "    \n",
    "    table = pd.DataFrame(columns=['country',\n",
    "                                 'perc_over10',\n",
    "                                 'ha_over10',\n",
    "                                 'km_over10'], dtype=object)\n",
    "\n",
    "    for country in sorted(set(list(pipe.country.values))):\n",
    "\n",
    "        country_df = pipe[pipe.country == country]\n",
    "\n",
    "        # calculate total area sampled for the country\n",
    "        sampled = country_df[['country', 'admin', 'esa_sampled_ha']]\n",
    "        sampled = sampled.drop_duplicates()\n",
    "        ha_sampled = sum(sampled.esa_sampled_ha)\n",
    "\n",
    "        # Calculate total TML ag ha >10%\n",
    "        ha = country_df[['country', 'tree_cover_class', 'tof_ha']].groupby(by=['country', 'tree_cover_class']).sum().reset_index() \n",
    "        ha_over10 = sum(ha.tof_ha[1:])\n",
    "\n",
    "\n",
    "        # % ag land with >10% cover\n",
    "        perc_over10 = (ha_over10 / ha_sampled) * 100\n",
    "\n",
    "        # convert to km\n",
    "        km_over10 = (ha_over10 / 100)\n",
    "\n",
    "        table = table.append({'country': country,\n",
    "                            'perc_over10': round(perc_over10, 2),\n",
    "                            'ha_over10': ha_over10,\n",
    "                            'km_over10': km_over10},\n",
    "                            ignore_index=True)\n",
    "    return table\n",
    "    \n",
    "\n",
    "        "
   ]
  },
  {
   "cell_type": "code",
   "execution_count": null,
   "id": "6208e557",
   "metadata": {},
   "outputs": [],
   "source": [
    "# use rasterio to perform clipping  \n",
    "def clip(country):\n",
    "    '''\n",
    "    Requires country tif and shapefile in 'checks' directory.\n",
    "    Quickly clips country tif to geojson bounds.\n",
    "    '''\n",
    "    with fiona.open(f'checks/{country}_adminboundaries.geojson', 'r') as shape:\n",
    "        shapes = [feature['geometry'] for feature in shape]\n",
    "        \n",
    "    with rs.open(f'checks/{country}.tif') as src:\n",
    "        out_image, out_transform = rs.mask.mask(src, shapes, crop=True, nodata=255, filled=True)\n",
    "        out_meta = src.meta\n",
    "        out_meta.update({'driver': 'GTiff',\n",
    "                         'height': out_image.shape[1],\n",
    "                         'width': out_image.shape[2],\n",
    "                         'transform': out_transform})\n",
    "    with rs.open(f'checks/{country}-clipped.tif', 'w', **out_meta) as dest:\n",
    "        dest.write(out_image)\n",
    "        \n",
    "    return None"
   ]
  },
  {
   "cell_type": "code",
   "execution_count": null,
   "id": "7c75e20f",
   "metadata": {},
   "outputs": [],
   "source": [
    "def calculate(country):\n",
    "    '''\n",
    "    Quickly calculates the total hectares above 10%\n",
    "    Requires country tif in 'checks' directory.\n",
    "    '''\n",
    "    x = rs.open(f'checks/{country}-clipped.tif').read(1)\n",
    "    #x = x[:-(x.shape[0] % 10), :-(x.shape[1] % 10)]\n",
    "    def round_down(num, divisor):\n",
    "        return num - (num%divisor)\n",
    "    new_dim1 = round_down(x.shape[0], 10)\n",
    "    new_dim2 = round_down(x.shape[1], 10)\n",
    "    x = x[:new_dim1, :new_dim2]\n",
    "    x = np.ma.masked_array(x, mask = x == 255)\n",
    "    x = np.reshape(x, (x.shape[0] // 10, 10, x.shape[1] // 10, 10))\n",
    "    x = np.mean(x, axis=(1,3))\n",
    "    total = np.sum(x > 10)\n",
    "    return total"
   ]
  },
  {
   "cell_type": "code",
   "execution_count": null,
   "id": "a98da5de",
   "metadata": {},
   "outputs": [],
   "source": [
    "def compare(country):\n",
    "    '''\n",
    "    Compares quick clip/calculate stats to pipeline stats\n",
    "    Requires country statistics in wherever location over10_stats references\n",
    "    '''\n",
    "    df = over10_stats(country)\n",
    "    pipe_output = df.ha_over10[0] # gets pipeline est of ha over 10%\n",
    "    quick_output = calculate(country) # calculates ha over 10% from clipped raster\n",
    "    diff = (pipe_output - quick_output) / pipe_output\n",
    "    if pipe_output > quick_output:\n",
    "        print(f'{country} overestimates by {round(diff*100, 2)}%')\n",
    "    elif pipe_output < quick_output:\n",
    "        print(f'{country} underestimates by {round(diff*100, 2)}%')"
   ]
  },
  {
   "cell_type": "code",
   "execution_count": null,
   "id": "871b7e24",
   "metadata": {},
   "outputs": [],
   "source": [
    "# Belize originally under estimated by 47%\n",
    "clip('Belize')\n",
    "calculate('Belize')\n",
    "compare('Belize')"
   ]
  },
  {
   "cell_type": "code",
   "execution_count": null,
   "id": "1a7100fd",
   "metadata": {},
   "outputs": [],
   "source": [
    "# Nicaragua originall overestimates by 7.02%\n",
    "clip('Nicaragua')\n",
    "calculate('Nicaragua')\n",
    "compare('Nicaragua')"
   ]
  },
  {
   "cell_type": "code",
   "execution_count": null,
   "id": "b9429077",
   "metadata": {},
   "outputs": [],
   "source": [
    "clip('Acre')\n",
    "calculate('Acre')\n",
    "compare('Acre')"
   ]
  },
  {
   "cell_type": "code",
   "execution_count": null,
   "id": "5ed63403",
   "metadata": {},
   "outputs": [],
   "source": [
    "# Paraguay originally overestimates by 4.57%\n",
    "clip('Paraguay')\n",
    "calculate('Paraguay')\n",
    "compare('Paraguay')"
   ]
  },
  {
   "cell_type": "code",
   "execution_count": null,
   "id": "fec9e17e",
   "metadata": {},
   "outputs": [],
   "source": [
    "clip('Suriname')\n",
    "calculate('Suriname')\n",
    "compare('Suriname')"
   ]
  },
  {
   "cell_type": "code",
   "execution_count": null,
   "id": "3d565d8e",
   "metadata": {},
   "outputs": [],
   "source": [
    "clip('Caribbean')\n",
    "calculate('Caribbean')\n",
    "compare('Caribbean')"
   ]
  },
  {
   "cell_type": "code",
   "execution_count": null,
   "id": "5ab5511d",
   "metadata": {},
   "outputs": [],
   "source": [
    "# Ghana originally overestimates by 7.43%\n",
    "clip('Ghana')\n",
    "calculate('Ghana')\n",
    "compare('Ghana')"
   ]
  },
  {
   "cell_type": "code",
   "execution_count": null,
   "id": "02adf435",
   "metadata": {},
   "outputs": [],
   "source": [
    "# Liberia originally underestimates by %-12.23\n",
    "clip('Liberia')\n",
    "calculate('Liberia')\n",
    "compare('Liberia')"
   ]
  },
  {
   "cell_type": "code",
   "execution_count": null,
   "id": "f522dedd",
   "metadata": {},
   "outputs": [],
   "source": [
    "# Madagascar originally overestimates by 7.37%\n",
    "clip('Madagascar')\n",
    "calculate('Madagascar')\n",
    "compare('Madagascar')"
   ]
  },
  {
   "cell_type": "code",
   "execution_count": null,
   "id": "b21f994f",
   "metadata": {},
   "outputs": [],
   "source": [
    "clip('Somalia')\n",
    "calculate('Somalia')\n",
    "compare('Somalia')"
   ]
  },
  {
   "cell_type": "code",
   "execution_count": null,
   "id": "3af491fc",
   "metadata": {},
   "outputs": [],
   "source": [
    "clip('Lesotho')\n",
    "calculate('Lesotho')\n",
    "compare('Lesotho')"
   ]
  },
  {
   "cell_type": "code",
   "execution_count": null,
   "id": "b10383df",
   "metadata": {},
   "outputs": [],
   "source": [
    "clip('Republic of Congo')\n",
    "calculate('Republic of Congo')\n",
    "compare('Republic of Congo')"
   ]
  },
  {
   "cell_type": "code",
   "execution_count": null,
   "id": "f1e05490",
   "metadata": {},
   "outputs": [],
   "source": [
    "clip('Bangladesh')\n",
    "calculate('Bangladesh')\n",
    "compare('Bangladesh')"
   ]
  },
  {
   "cell_type": "code",
   "execution_count": null,
   "id": "115dc58e",
   "metadata": {},
   "outputs": [],
   "source": [
    "clip('Myanmar')\n",
    "calculate('Myanmar')\n",
    "compare('Myanmar')"
   ]
  },
  {
   "cell_type": "code",
   "execution_count": null,
   "id": "12b36cf7",
   "metadata": {},
   "outputs": [],
   "source": [
    "clip('Vietnam')\n",
    "calculate('Vietnam')\n",
    "compare('Vietnam')"
   ]
  },
  {
   "cell_type": "markdown",
   "id": "f0cad725",
   "metadata": {},
   "source": [
    "### Central America"
   ]
  },
  {
   "cell_type": "code",
   "execution_count": null,
   "id": "69e22413",
   "metadata": {},
   "outputs": [],
   "source": [
    "# Zonal statistics from GEE\n",
    "zonals = pd.read_csv('statistics/centralamzonalstats.csv')\n",
    "zonals.sort_values('Country')"
   ]
  },
  {
   "cell_type": "code",
   "execution_count": null,
   "id": "ba18c918",
   "metadata": {},
   "outputs": [],
   "source": [
    "# compare with pipeline output on 8/12\n",
    "aug12 = over10_stats(region='central_am')\n",
    "aug12"
   ]
  },
  {
   "cell_type": "code",
   "execution_count": null,
   "id": "407f6d22",
   "metadata": {},
   "outputs": [],
   "source": [
    "aug12['diff'] = round(((aug12.km_over10 - zonals.AreaKmGTE10Percent) / aug12.km_over10),2)"
   ]
  },
  {
   "cell_type": "code",
   "execution_count": null,
   "id": "11e839d9",
   "metadata": {},
   "outputs": [],
   "source": [
    "aug12"
   ]
  }
 ],
 "metadata": {
  "kernelspec": {
   "display_name": "tml-analysis",
   "language": "python",
   "name": "tml-analysis"
  },
  "language_info": {
   "codemirror_mode": {
    "name": "ipython",
    "version": 3
   },
   "file_extension": ".py",
   "mimetype": "text/x-python",
   "name": "python",
   "nbconvert_exporter": "python",
   "pygments_lexer": "ipython3",
   "version": "3.8.5"
  },
  "toc": {
   "base_numbering": 1,
   "nav_menu": {},
   "number_sections": true,
   "sideBar": true,
   "skip_h1_title": false,
   "title_cell": "Table of Contents",
   "title_sidebar": "Contents",
   "toc_cell": false,
   "toc_position": {},
   "toc_section_display": true,
   "toc_window_display": false
  },
  "varInspector": {
   "cols": {
    "lenName": 16,
    "lenType": 16,
    "lenVar": 40
   },
   "kernels_config": {
    "python": {
     "delete_cmd_postfix": "",
     "delete_cmd_prefix": "del ",
     "library": "var_list.py",
     "varRefreshCmd": "print(var_dic_list())"
    },
    "r": {
     "delete_cmd_postfix": ") ",
     "delete_cmd_prefix": "rm(",
     "library": "var_list.r",
     "varRefreshCmd": "cat(var_dic_list()) "
    }
   },
   "types_to_exclude": [
    "module",
    "function",
    "builtin_function_or_method",
    "instance",
    "_Feature"
   ],
   "window_display": false
  }
 },
 "nbformat": 4,
 "nbformat_minor": 5
}
