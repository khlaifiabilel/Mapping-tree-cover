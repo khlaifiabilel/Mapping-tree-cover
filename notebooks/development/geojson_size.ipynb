{
 "cells": [
  {
   "cell_type": "code",
   "execution_count": 9,
   "id": "3725b758",
   "metadata": {},
   "outputs": [],
   "source": []
  },
  {
   "cell_type": "code",
   "execution_count": 15,
   "id": "849705e4",
   "metadata": {},
   "outputs": [
    {
     "name": "stdout",
     "output_type": "stream",
     "text": [
      "Polygon 0 is in Australia  with a size of 66.6 ha\n",
      "Polygon 1 is in Australia  with a size of 5.2 ha\n",
      "Polygon 2 is in Australia  with a size of 70.4 ha\n"
     ]
    },
    {
     "name": "stderr",
     "output_type": "stream",
     "text": [
      "/Users/jbrandt.terminal/opt/anaconda3/lib/python3.8/site-packages/pyproj/crs/crs.py:68: FutureWarning: '+init=<authority>:<code>' syntax is deprecated. '<authority>:<code>' is the preferred initialization method. When making the change, be mindful of axis order changes: https://pyproj4.github.io/pyproj/stable/gotchas.html#axis-order-changes-in-proj-6\n",
      "  return _prepare_from_string(\" \".join(pjargs))\n"
     ]
    },
    {
     "data": {
      "text/html": [
       "<div>\n",
       "<style scoped>\n",
       "    .dataframe tbody tr th:only-of-type {\n",
       "        vertical-align: middle;\n",
       "    }\n",
       "\n",
       "    .dataframe tbody tr th {\n",
       "        vertical-align: top;\n",
       "    }\n",
       "\n",
       "    .dataframe thead th {\n",
       "        text-align: right;\n",
       "    }\n",
       "</style>\n",
       "<table border=\"1\" class=\"dataframe\">\n",
       "  <thead>\n",
       "    <tr style=\"text-align: right;\">\n",
       "      <th></th>\n",
       "      <th>area</th>\n",
       "      <th>country</th>\n",
       "      <th>name</th>\n",
       "      <th>polygon</th>\n",
       "    </tr>\n",
       "  </thead>\n",
       "  <tbody>\n",
       "    <tr>\n",
       "      <th>0</th>\n",
       "      <td>66.56</td>\n",
       "      <td>Australia</td>\n",
       "      <td>Dummy_Polygon.geojson</td>\n",
       "      <td>0.0</td>\n",
       "    </tr>\n",
       "    <tr>\n",
       "      <th>1</th>\n",
       "      <td>5.16</td>\n",
       "      <td>Australia</td>\n",
       "      <td>Dummy_Polygon.geojson</td>\n",
       "      <td>1.0</td>\n",
       "    </tr>\n",
       "    <tr>\n",
       "      <th>2</th>\n",
       "      <td>70.39</td>\n",
       "      <td>Australia</td>\n",
       "      <td>Dummy_Polygon.geojson</td>\n",
       "      <td>2.0</td>\n",
       "    </tr>\n",
       "  </tbody>\n",
       "</table>\n",
       "</div>"
      ],
      "text/plain": [
       "    area    country                   name  polygon\n",
       "0  66.56  Australia  Dummy_Polygon.geojson      0.0\n",
       "1   5.16  Australia  Dummy_Polygon.geojson      1.0\n",
       "2  70.39  Australia  Dummy_Polygon.geojson      2.0"
      ]
     },
     "execution_count": 15,
     "metadata": {},
     "output_type": "execute_result"
    }
   ],
   "source": [
    "import shapely\n",
    "import requests\n",
    "import geopandas as gpd\n",
    "import numpy as np\n",
    "import pandas as pd\n",
    "\n",
    "path = 'https://restoration-monitoring-external.s3.amazonaws.com/Dummy_Polygon.geojson'\n",
    "user = None\n",
    "password = None\n",
    "fname = path.split(\"/\")[-1]\n",
    "\n",
    "# If you need a password to access the file, then login with this\n",
    "if user is not None:\n",
    "    r = requests.get(path, auth=(user, password))\n",
    "# Otherwise, just download the link\n",
    "else:\n",
    "    r = requests.get(path)\n",
    "    \n",
    "# Save the data to a file    \n",
    "with open(fname, 'wb') as f:\n",
    "    f.write(r.content)\n",
    "\n",
    "# Open the file an set the CRS to 4326, then reproject it to equal-area 6933\n",
    "data = gpd.read_file(fname)\n",
    "countryfile = gpd.read_file('countries.geojson')\n",
    "data = gpd.sjoin(data, countryfile, predicate = 'within')\n",
    "\n",
    "df = pd.DataFrame()\n",
    "data.crs = {\"init\":\"epsg:4326\"}\n",
    "data = data.to_crs(epsg = 6933)\n",
    "for index, polygon in data.iterrows():\n",
    "    print(f'Polygon {index} is in {polygon.ADMIN}  with a size of '\n",
    "          f'{np.around(polygon.geometry.area / 1e4, 1)} ha')\n",
    "    df = df.append({'name': fname,\n",
    "                    'polygon': index,\n",
    "                    'area': np.around(polygon.geometry.area / 1e4, 2),\n",
    "                    'country': polygon.ADMIN,\n",
    "                    # Here you could add any columns from the polygon attributes\n",
    "                   }, ignore_index = True)\n",
    "    \n",
    "df.head(5)"
   ]
  },
  {
   "cell_type": "code",
   "execution_count": null,
   "id": "cae7a8ad",
   "metadata": {},
   "outputs": [],
   "source": []
  }
 ],
 "metadata": {
  "kernelspec": {
   "display_name": "remote_sensing",
   "language": "python",
   "name": "remote_sensing"
  },
  "language_info": {
   "codemirror_mode": {
    "name": "ipython",
    "version": 3
   },
   "file_extension": ".py",
   "mimetype": "text/x-python",
   "name": "python",
   "nbconvert_exporter": "python",
   "pygments_lexer": "ipython3",
   "version": "3.8.8"
  }
 },
 "nbformat": 4,
 "nbformat_minor": 5
}
